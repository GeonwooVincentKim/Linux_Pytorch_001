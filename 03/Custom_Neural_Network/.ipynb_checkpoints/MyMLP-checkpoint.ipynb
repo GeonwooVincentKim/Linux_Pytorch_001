{
 "cells": [
  {
   "cell_type": "code",
   "execution_count": 37,
   "metadata": {},
   "outputs": [],
   "source": [
    "import torch\n",
    "from torch import nn, optim\n",
    "from torch.utils.data import TensorDataset, DataLoader\n",
    "\n",
    "from sklearn.model_selection import train_test_split\n",
    "from sklearn.datasets import load_digits\n",
    "digits = load_digits()\n",
    "\n",
    "import import_ipynb\n",
    "from CustomLinear import CustomLinear"
   ]
  },
  {
   "cell_type": "code",
   "execution_count": 38,
   "metadata": {},
   "outputs": [],
   "source": [
    "X = digits.data\n",
    "Y = digits.target\n",
    "\n",
    "X = torch.tensor(X, dtype=torch.float32)\n",
    "Y = torch.tensor(Y, dtype=torch.int64)"
   ]
  },
  {
   "cell_type": "code",
   "execution_count": 39,
   "metadata": {},
   "outputs": [],
   "source": [
    "X_train, Y_train, X_test, Y_test = train_test_split(X, Y, test_size=0.3)"
   ]
  },
  {
   "cell_type": "code",
   "execution_count": 40,
   "metadata": {},
   "outputs": [],
   "source": [
    "X_train = torch.tensor(X_train, dtype=torch.float32)\n",
    "Y_train = torch.tensor(Y_train, dtype=torch.int64)\n",
    "X_test = torch.tensor(X_test, dtype=torch.float32)\n",
    "Y_train = torch.tensor(Y_test, dtype=torch.int64)"
   ]
  },
  {
   "cell_type": "code",
   "execution_count": 41,
   "metadata": {},
   "outputs": [],
   "source": [
    "# Define a variable that create DataSet.\n",
    "ds = TensorDataset(X, Y)"
   ]
  },
  {
   "cell_type": "code",
   "execution_count": 42,
   "metadata": {},
   "outputs": [],
   "source": [
    "# Define a variable that create Data-Loader returns data for each of 64\n",
    "# by shuffles-sequence.\n",
    "loader = DataLoader(\n",
    "    ds, batch_size=64, shuffle=True\n",
    ")"
   ]
  },
  {
   "cell_type": "code",
   "execution_count": 46,
   "metadata": {},
   "outputs": [],
   "source": [
    "class MyMLP(nn.Module):\n",
    "    def __init__(self, in_features, out_features):\n",
    "        super().__init__()\n",
    "        self.ln1 = CustomLinear(in_features, 200)\n",
    "        self.ln2 = CustomLinear(200, 200)\n",
    "        self.ln3 = CustomLinear(200, 200)\n",
    "        self.ln4 = CustomLinear(200, out_features)\n",
    "        \n",
    "    def forward(self, x):\n",
    "        x = self.ln1(x)\n",
    "        x = self.ln2(x)\n",
    "        x = self.ln3(x)\n",
    "        x = self.ln4(x)\n",
    "        return x\n",
    "\n",
    "    \n",
    "mlp = MyMLP(64, 10)\n",
    "\n",
    "mlp = nn.Sequential(\n",
    "    CustomLinear(64, 200),\n",
    "    CustomLinear(200, 200),\n",
    "    CustomLinear(200, 200),\n",
    "    nn.Linear(200, 10)\n",
    ")"
   ]
  },
  {
   "cell_type": "code",
   "execution_count": 48,
   "metadata": {},
   "outputs": [],
   "source": [
    "loss_fn = nn.CrossEntropyLoss()\n",
    "optimizer = optim.Adam(mlp.parameters())"
   ]
  },
  {
   "cell_type": "code",
   "execution_count": 49,
   "metadata": {},
   "outputs": [],
   "source": [
    "train_losses = []\n",
    "test_losses = []"
   ]
  },
  {
   "cell_type": "code",
   "execution_count": 59,
   "metadata": {},
   "outputs": [
    {
     "name": "stdout",
     "output_type": "stream",
     "text": [
      "After trained each data of running_loss :  1.5414295565337\n",
      "After trained each data of running_loss :  0.7002915292978287\n",
      "After trained each data of running_loss :  1.0028342534787953\n",
      "After trained each data of running_loss :  0.5641430646182926\n",
      "After trained each data of running_loss :  0.8775310562923551\n",
      "After trained each data of running_loss :  1.0135338749736604\n",
      "After trained each data of running_loss :  0.5756560228765011\n",
      "After trained each data of running_loss :  0.7098772056400549\n",
      "After trained each data of running_loss :  1.0680817745742388\n",
      "After trained each data of running_loss :  0.46633953152922913\n",
      "After trained each data of running_loss :  0.772437235689722\n",
      "After trained each data of running_loss :  0.8731749746948481\n",
      "After trained each data of running_loss :  1.0250452246516488\n",
      "After trained each data of running_loss :  0.7166306190192699\n",
      "After trained each data of running_loss :  1.006230321538169\n",
      "After trained each data of running_loss :  0.9314021389945992\n",
      "After trained each data of running_loss :  1.0596697840839653\n",
      "After trained each data of running_loss :  0.59195869974792\n",
      "After trained each data of running_loss :  0.46183761657448485\n",
      "After trained each data of running_loss :  0.48784905895581687\n",
      "After trained each data of running_loss :  0.5235002044588555\n",
      "After trained each data of running_loss :  0.5863290220499948\n",
      "After trained each data of running_loss :  0.7606456223875284\n",
      "After trained each data of running_loss :  0.641092465817934\n",
      "After trained each data of running_loss :  0.38740409165620804\n",
      "After trained each data of running_loss :  0.48549530692389453\n",
      "After trained each data of running_loss :  0.3174334838986397\n",
      "After trained each data of running_loss :  0.33157092407054733\n",
      "After trained each data of running_loss :  0.561484893783927\n",
      "After trained each data of running_loss :  0.5619744751602411\n",
      "After trained each data of running_loss :  0.5287785790860653\n",
      "After trained each data of running_loss :  0.47319980745669454\n",
      "After trained each data of running_loss :  0.8335564285516739\n",
      "After trained each data of running_loss :  0.802688255906105\n",
      "After trained each data of running_loss :  0.6782669648528099\n",
      "After trained each data of running_loss :  0.702591247856617\n",
      "After trained each data of running_loss :  1.1576312482357025\n",
      "After trained each data of running_loss :  0.9456506152637303\n",
      "After trained each data of running_loss :  1.2309094108641148\n",
      "After trained each data of running_loss :  1.0982323147356539\n",
      "After trained each data of running_loss :  0.885142441093933\n",
      "After trained each data of running_loss :  0.37014566658763215\n",
      "After trained each data of running_loss :  0.9383905455470085\n",
      "After trained each data of running_loss :  1.1085893988609428\n",
      "After trained each data of running_loss :  0.9475294988660607\n",
      "After trained each data of running_loss :  0.740957436338249\n",
      "After trained each data of running_loss :  0.7419215358793849\n",
      "After trained each data of running_loss :  0.545795077458024\n",
      "After trained each data of running_loss :  0.4685184791684378\n",
      "After trained each data of running_loss :  0.6201081361650722\n",
      "After trained each data of running_loss :  1.396732400730258\n",
      "After trained each data of running_loss :  0.9501074720174074\n",
      "After trained each data of running_loss :  0.8608066756278276\n",
      "After trained each data of running_loss :  1.69901179370936\n",
      "After trained each data of running_loss :  0.87322005815804\n",
      "After trained each data of running_loss :  0.8711768705397844\n",
      "After trained each data of running_loss :  1.229248821735382\n",
      "After trained each data of running_loss :  1.1338347692042703\n",
      "After trained each data of running_loss :  1.1796883694842109\n",
      "After trained each data of running_loss :  0.7650504093617201\n",
      "After trained each data of running_loss :  0.47415924221240857\n",
      "After trained each data of running_loss :  0.3380351737141609\n",
      "After trained each data of running_loss :  0.47045478224754333\n",
      "After trained each data of running_loss :  0.5690013077110052\n",
      "After trained each data of running_loss :  0.37505509378388524\n",
      "After trained each data of running_loss :  0.46116734854876995\n",
      "After trained each data of running_loss :  0.6616702638566494\n",
      "After trained each data of running_loss :  0.3827956736088254\n",
      "After trained each data of running_loss :  1.0137424506247044\n",
      "After trained each data of running_loss :  0.6900307413188784\n",
      "After trained each data of running_loss :  0.41348613798618317\n",
      "After trained each data of running_loss :  0.260675277188426\n",
      "After trained each data of running_loss :  0.375288990885025\n",
      "After trained each data of running_loss :  0.3411009848117885\n",
      "After trained each data of running_loss :  0.7775900572538603\n",
      "After trained each data of running_loss :  0.3835569694638252\n",
      "After trained each data of running_loss :  0.5240368712693453\n",
      "After trained each data of running_loss :  0.5483499448746443\n",
      "After trained each data of running_loss :  0.638728485628917\n",
      "After trained each data of running_loss :  0.3710396576207131\n",
      "After trained each data of running_loss :  0.8664240363985414\n",
      "After trained each data of running_loss :  1.083610681071832\n",
      "After trained each data of running_loss :  0.47113290652634987\n",
      "After trained each data of running_loss :  0.3507538106277934\n",
      "After trained each data of running_loss :  0.25353398732841015\n",
      "After trained each data of running_loss :  0.4457276724278927\n",
      "After trained each data of running_loss :  0.6666260089725711\n",
      "After trained each data of running_loss :  0.6600357312709093\n",
      "After trained each data of running_loss :  1.455469885841012\n",
      "After trained each data of running_loss :  1.2372081484645605\n",
      "After trained each data of running_loss :  0.8617565628137527\n",
      "After trained each data of running_loss :  0.7308920986950511\n",
      "After trained each data of running_loss :  0.5836006384342909\n",
      "After trained each data of running_loss :  0.5151380904018907\n",
      "After trained each data of running_loss :  0.41608124785125256\n",
      "After trained each data of running_loss :  0.31354988226667047\n",
      "After trained each data of running_loss :  0.29870977997779846\n",
      "After trained each data of running_loss :  0.3277016803622246\n",
      "After trained each data of running_loss :  1.0475266631692648\n",
      "After trained each data of running_loss :  1.0876494823023677\n"
     ]
    }
   ],
   "source": [
    "for epoch in range(100):\n",
    "    running_loss = 0.0\n",
    "    # Set Neural-Network as a Training-Mode.\n",
    "    mlp.train()\n",
    "    \n",
    "    for i, (xx, yy) in enumerate(loader):\n",
    "        y_pred = mlp(xx)\n",
    "        loss = loss_fn(y_pred, yy)\n",
    "        optimizer.zero_grad()\n",
    "        \n",
    "        loss.backward()\n",
    "        optimizer.step()\n",
    "        running_loss += loss.item()\n",
    "        \n",
    "    train_losses.append(running_loss / i)\n",
    "    \n",
    "    # Set the neural network into evaluation mode \n",
    "    # and calculate the loss function of the verification data.\n",
    "    mlp.eval()\n",
    "    # y_pred = mlp(X_test)\n",
    "    test_loss = loss_fn(y_pred, Y_test)\n",
    "    # test_losses.append(test_loss.item())\n",
    "\n",
    "    print(\"After trained each data of running_loss : \", running_loss)\n"
   ]
  },
  {
   "cell_type": "code",
   "execution_count": 60,
   "metadata": {},
   "outputs": [
    {
     "name": "stdout",
     "output_type": "stream",
     "text": [
      "Train-Losses and Test-Losses\n"
     ]
    },
    {
     "data": {
      "text/plain": [
       "[<matplotlib.lines.Line2D at 0x7fa98216bb38>]"
      ]
     },
     "execution_count": 60,
     "metadata": {},
     "output_type": "execute_result"
    },
    {
     "data": {
      "image/png": "[encoded data removed]",
      "text/plain": [
       "<Figure size 432x288 with 1 Axes>"
      ]
     },
     "metadata": {
      "needs_background": "light"
     },
     "output_type": "display_data"
    }
   ],
   "source": [
    "%matplotlib inline\n",
    "from matplotlib import pyplot as plt\n",
    "\n",
    "print(\"Train-Losses and Test-Losses\")\n",
    "plt.plot(train_losses)\n",
    "plt.plot(test_losses)"
   ]
  },
  {
   "cell_type": "code",
   "execution_count": null,
   "metadata": {},
   "outputs": [],
   "source": []
  }
 ],
 "metadata": {
  "kernelspec": {
   "display_name": "Python 3",
   "language": "python",
   "name": "python3"
  },
  "language_info": {
   "codemirror_mode": {
    "name": "ipython",
    "version": 3
   },
   "file_extension": ".py",
   "mimetype": "text/x-python",
   "name": "python",
   "nbconvert_exporter": "python",
   "pygments_lexer": "ipython3",
   "version": "3.6.10"
  }
 },
 "nbformat": 4,
 "nbformat_minor": 4
}
