{
 "cells": [
  {
   "cell_type": "code",
   "execution_count": 37,
   "metadata": {},
   "outputs": [],
   "source": [
    "import torch\n",
    "from torch import nn, optim\n",
    "from torch.utils.data import TensorDataset, DataLoader\n",
    "\n",
    "from sklearn.model_selection import train_test_split\n",
    "from sklearn.datasets import load_digits\n",
    "digits = load_digits()\n",
    "\n",
    "import import_ipynb\n",
    "from CustomLinear import CustomLinear"
   ]
  },
  {
   "cell_type": "code",
   "execution_count": 38,
   "metadata": {},
   "outputs": [],
   "source": [
    "X = digits.data\n",
    "Y = digits.target\n",
    "\n",
    "X = torch.tensor(X, dtype=torch.float32)\n",
    "Y = torch.tensor(Y, dtype=torch.int64)"
   ]
  },
  {
   "cell_type": "code",
   "execution_count": 39,
   "metadata": {},
   "outputs": [],
   "source": [
    "X_train, Y_train, X_test, Y_test = train_test_split(X, Y, test_size=0.3)"
   ]
  },
  {
   "cell_type": "code",
   "execution_count": 40,
   "metadata": {},
   "outputs": [],
   "source": [
    "X_train = torch.tensor(X_train, dtype=torch.float32)\n",
    "Y_train = torch.tensor(Y_train, dtype=torch.int64)\n",
    "X_test = torch.tensor(X_test, dtype=torch.float32)\n",
    "Y_train = torch.tensor(Y_test, dtype=torch.int64)"
   ]
  },
  {
   "cell_type": "code",
   "execution_count": 41,
   "metadata": {},
   "outputs": [],
   "source": [
    "# Define a variable that create DataSet.\n",
    "ds = TensorDataset(X, Y)"
   ]
  },
  {
   "cell_type": "code",
   "execution_count": 42,
   "metadata": {},
   "outputs": [],
   "source": [
    "# Define a variable that create Data-Loader returns data for each of 64\n",
    "# by shuffles-sequence.\n",
    "loader = DataLoader(\n",
    "    ds, batch_size=64, shuffle=True\n",
    ")"
   ]
  },
  {
   "cell_type": "code",
   "execution_count": 46,
   "metadata": {},
   "outputs": [],
   "source": [
    "class MyMLP(nn.Module):\n",
    "    def __init__(self, in_features, out_features):\n",
    "        super().__init__()\n",
    "        self.ln1 = CustomLinear(in_features, 200)\n",
    "        self.ln2 = CustomLinear(200, 200)\n",
    "        self.ln3 = CustomLinear(200, 200)\n",
    "        self.ln4 = CustomLinear(200, out_features)\n",
    "        \n",
    "    def forward(self, x):\n",
    "        x = self.ln1(x)\n",
    "        x = self.ln2(x)\n",
    "        x = self.ln3(x)\n",
    "        x = self.ln4(x)\n",
    "        return x\n",
    "\n",
    "    \n",
    "mlp = MyMLP(64, 10)\n",
    "\n",
    "mlp = nn.Sequential(\n",
    "    CustomLinear(64, 200),\n",
    "    CustomLinear(200, 200),\n",
    "    CustomLinear(200, 200),\n",
    "    nn.Linear(200, 10)\n",
    ")"
   ]
  },
  {
   "cell_type": "code",
   "execution_count": 48,
   "metadata": {},
   "outputs": [],
   "source": [
    "loss_fn = nn.CrossEntropyLoss()\n",
    "optimizer = optim.Adam(mlp.parameters())"
   ]
  },
  {
   "cell_type": "code",
   "execution_count": 49,
   "metadata": {},
   "outputs": [],
   "source": [
    "train_losses = []\n",
    "test_losses = []"
   ]
  },
  {
   "cell_type": "code",
   "execution_count": null,
   "metadata": {},
   "outputs": [
    {
     "name": "stdout",
     "output_type": "stream",
     "text": [
      "After trained each data of running_loss :  0.7305121358485849\n",
      "After trained each data of running_loss :  1.1832198414485902\n",
      "After trained each data of running_loss :  0.6236571595072746\n",
      "After trained each data of running_loss :  0.4106140371413858\n",
      "After trained each data of running_loss :  0.6815784830596385\n",
      "After trained each data of running_loss :  1.3585564431268722\n",
      "After trained each data of running_loss :  0.7302488200366497\n",
      "After trained each data of running_loss :  0.6992715657688677\n",
      "After trained each data of running_loss :  1.3127177469432354\n",
      "After trained each data of running_loss :  0.4820628173647492\n",
      "After trained each data of running_loss :  0.5841166041791439\n",
      "After trained each data of running_loss :  0.3428772570332512\n",
      "After trained each data of running_loss :  0.47225375808739045\n",
      "After trained each data of running_loss :  0.5694671008732257\n",
      "After trained each data of running_loss :  0.4080244265496731\n",
      "After trained each data of running_loss :  0.6334860369561284\n",
      "After trained each data of running_loss :  0.27460332168266177\n",
      "After trained each data of running_loss :  0.8366989344358444\n",
      "After trained each data of running_loss :  0.9014167077839375\n",
      "After trained each data of running_loss :  0.6991733520990238\n",
      "After trained each data of running_loss :  0.28560521377949044\n",
      "After trained each data of running_loss :  0.8616206496953964\n",
      "After trained each data of running_loss :  0.6979407370090485\n",
      "After trained each data of running_loss :  1.0579059448093204\n",
      "After trained each data of running_loss :  1.0585736203938723\n",
      "After trained each data of running_loss :  0.5479366686195135\n"
     ]
    }
   ],
   "source": [
    "for epoch in range(100):\n",
    "    running_loss = 0.0\n",
    "    # Set Neural-Network as a Training-Mode.\n",
    "    mlp.train()\n",
    "    \n",
    "    for i, (xx, yy) in enumerate(loader):\n",
    "        y_pred = mlp(xx)\n",
    "        loss = loss_fn(y_pred, yy)\n",
    "        optimizer.zero_grad()\n",
    "        \n",
    "        loss.backward()\n",
    "        optimizer.step()\n",
    "        running_loss += loss.item()\n",
    "        \n",
    "    train_losses.append(running_loss / i)\n",
    "    \n",
    "    # Set the neural network into evaluation mode \n",
    "    # and calculate the loss function of the verification data.\n",
    "    mlp.eval()\n",
    "    # y_pred = mlp(X_test)\n",
    "    # test_loss = loss_fn(y_pred, Y_test)\n",
    "    # test_losses.append(test_loss.item())\n",
    "\n",
    "    print(\"After trained each data of running_loss : \", running_loss)\n"
   ]
  },
  {
   "cell_type": "code",
   "execution_count": null,
   "metadata": {},
   "outputs": [],
   "source": [
    "%matplotlib inline\n",
    "from matplotlib import pyplot as plt\n",
    "\n",
    "print(\"Train-Losses and Test-Losses\")\n",
    "plt.plot(train_losses)\n",
    "plt.plot(test_losses)"
   ]
  },
  {
   "cell_type": "code",
   "execution_count": null,
   "metadata": {},
   "outputs": [],
   "source": []
  }
 ],
 "metadata": {
  "kernelspec": {
   "display_name": "Python 3",
   "language": "python",
   "name": "python3"
  },
  "language_info": {
   "codemirror_mode": {
    "name": "ipython",
    "version": 3
   },
   "file_extension": ".py",
   "mimetype": "text/x-python",
   "name": "python",
   "nbconvert_exporter": "python",
   "pygments_lexer": "ipython3",
   "version": "3.6.10"
  }
 },
 "nbformat": 4,
 "nbformat_minor": 4
}
