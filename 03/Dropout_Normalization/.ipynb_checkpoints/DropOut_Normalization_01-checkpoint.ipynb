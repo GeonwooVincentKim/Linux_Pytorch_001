{
 "cells": [
  {
   "cell_type": "code",
   "execution_count": 4,
   "metadata": {},
   "outputs": [],
   "source": [
    "import torch\n",
    "import torch.nn as nn\n",
    "import torch.optim as optim\n",
    "from torch.utils.data import TensorDataset, DataLoader\n",
    "from sklearn.datasets import load_digits\n",
    "digits = load_digits()\n",
    "\n",
    "X = digits.data\n",
    "Y = digits.target\n",
    "\n",
    "X = torch.tensor(X, dtype=torch.float32)\n",
    "Y = torch.tensor(Y, dtype=torch.int64)\n",
    "\n",
    "# Create DataSet\n",
    "ds = TensorDataset(X, Y)\n",
    "\n",
    "# Create DataLoader that returns each 64 data by shffles sequence.\n",
    "loader = DataLoader(ds, batch_size=64, shuffle=True)\n",
    "\n",
    "net = nn.Sequential(\n",
    "    nn.Linear(64, 32),\n",
    "    nn.ReLU(),\n",
    "    nn.Linear(32, 16),\n",
    "    nn.ReLU(),\n",
    "    nn.Linear(16, 10)\n",
    ")"
   ]
  },
  {
   "cell_type": "code",
   "execution_count": 7,
   "metadata": {},
   "outputs": [
    {
     "name": "stdout",
     "output_type": "stream",
     "text": [
      "Before Iterate running_loss :  0.0\n",
      "After Iterated Running_Loss :  61.12066876888275\n",
      "Before Iterate running_loss :  0.0\n",
      "After Iterated Running_Loss :  47.86248433589935\n",
      "Before Iterate running_loss :  0.0\n",
      "After Iterated Running_Loss :  31.650704562664032\n",
      "Before Iterate running_loss :  0.0\n",
      "After Iterated Running_Loss :  20.84755641222\n",
      "Before Iterate running_loss :  0.0\n",
      "After Iterated Running_Loss :  14.382018744945526\n",
      "Before Iterate running_loss :  0.0\n",
      "After Iterated Running_Loss :  10.846542060375214\n",
      "Before Iterate running_loss :  0.0\n",
      "After Iterated Running_Loss :  8.697900518774986\n",
      "Before Iterate running_loss :  0.0\n",
      "After Iterated Running_Loss :  7.175521120429039\n",
      "Before Iterate running_loss :  0.0\n",
      "After Iterated Running_Loss :  5.976575065404177\n",
      "Before Iterate running_loss :  0.0\n",
      "After Iterated Running_Loss :  5.220210276544094\n"
     ]
    }
   ],
   "source": [
    "loss_fn = nn.CrossEntropyLoss()\n",
    "optimizer = optim.Adam(net.parameters())\n",
    "\n",
    "# Execution Optimizing\n",
    "losses = []\n",
    "\n",
    "for epoch in range(10):\n",
    "    running_loss = 0.0\n",
    "    print(\"Before Iterate running_loss : \", running_loss)\n",
    "    for x1, y1 in loader:\n",
    "        # x1, y1 only gets 64 data.\n",
    "        y_pred = net(x1)\n",
    "        loss = loss_fn(y_pred, y1)\n",
    "        \n",
    "        optimizer.zero_grad()\n",
    "        loss.backward()\n",
    "        optimizer.step()\n",
    "        running_loss += loss.item()\n",
    "    losses.append(running_loss)\n",
    "    print(\"After Iterated Running_Loss : \", running_loss)"
   ]
  },
  {
   "cell_type": "code",
   "execution_count": 8,
   "metadata": {},
   "outputs": [
    {
     "data": {
      "text/plain": [
       "[<matplotlib.lines.Line2D at 0x7fe2fa56b518>]"
      ]
     },
     "execution_count": 8,
     "metadata": {},
     "output_type": "execute_result"
    },
    {
     "data": {
      "image/png": "[encoded data removed]",
      "text/plain": [
       "<Figure size 432x288 with 1 Axes>"
      ]
     },
     "metadata": {
      "needs_background": "light"
     },
     "output_type": "display_data"
    }
   ],
   "source": [
    "%matplotlib inline\n",
    "from matplotlib import pyplot as plt\n",
    "plt.plot(losses)"
   ]
  },
  {
   "cell_type": "code",
   "execution_count": null,
   "metadata": {},
   "outputs": [],
   "source": []
  }
 ],
 "metadata": {
  "kernelspec": {
   "display_name": "Python 3",
   "language": "python",
   "name": "python3"
  },
  "language_info": {
   "codemirror_mode": {
    "name": "ipython",
    "version": 3
   },
   "file_extension": ".py",
   "mimetype": "text/x-python",
   "name": "python",
   "nbconvert_exporter": "python",
   "pygments_lexer": "ipython3",
   "version": "3.6.10"
  }
 },
 "nbformat": 4,
 "nbformat_minor": 4
}
