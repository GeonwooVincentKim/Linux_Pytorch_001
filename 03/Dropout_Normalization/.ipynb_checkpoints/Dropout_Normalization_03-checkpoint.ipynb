{
 "cells": [
  {
   "cell_type": "code",
   "execution_count": 24,
   "metadata": {},
   "outputs": [],
   "source": [
    "import torch\n",
    "from torch import nn, optim\n",
    "from torch.utils.data import TensorDataset, DataLoader\n",
    "\n",
    "# Divide Data as Training-Set and Verification-Set.\n",
    "from sklearn.model_selection import train_test_split\n",
    "from sklearn.datasets import load_digits\n",
    "\n",
    "digits = load_digits()"
   ]
  },
  {
   "cell_type": "code",
   "execution_count": 25,
   "metadata": {},
   "outputs": [],
   "source": [
    "X = digits.data\n",
    "Y = digits.target\n",
    "\n",
    "X = torch.tensor(X, dtype=torch.float32)\n",
    "Y = torch.tensor(Y, dtype=torch.int64)\n",
    "\n",
    "X_train, X_test, Y_train, Y_test = train_test_split(X, Y, test_size=0.3)\n",
    "\n",
    "# Re-define variables that got data from train_test_split() function.\n",
    "X_train = torch.tensor(X_train, dtype=torch.float32)\n",
    "Y_train = torch.tensor(Y_train, dtype=torch.int64)\n",
    "X_test = torch.tensor(X_test, dtype=torch.float32)\n",
    "Y_test = torch.tensor(Y_test, dtype=torch.int64)"
   ]
  },
  {
   "cell_type": "code",
   "execution_count": 26,
   "metadata": {},
   "outputs": [],
   "source": [
    "# Create DataSet\n",
    "ds = TensorDataset(X, Y)\n",
    "\n",
    "# Create Data-Loader that returns each of 64 data by shffles sequence.\n",
    "loader = DataLoader(\n",
    "    ds, batch_size=64, shuffle=True\n",
    ")"
   ]
  },
  {
   "cell_type": "code",
   "execution_count": 44,
   "metadata": {},
   "outputs": [
    {
     "ename": "AttributeError",
     "evalue": "module 'torch.nn' has no attribute 'BatchNormld'",
     "output_type": "error",
     "traceback": [
      "\u001b[0;31m---------------------------------------------------------------------------\u001b[0m",
      "\u001b[0;31mAttributeError\u001b[0m                            Traceback (most recent call last)",
      "\u001b[0;32m<ipython-input-44-6e57d4d9c1ea>\u001b[0m in \u001b[0;36m<module>\u001b[0;34m\u001b[0m\n\u001b[1;32m     27\u001b[0m     \u001b[0mnn\u001b[0m\u001b[0;34m.\u001b[0m\u001b[0mLinear\u001b[0m\u001b[0;34m(\u001b[0m\u001b[0;36m64\u001b[0m\u001b[0;34m,\u001b[0m \u001b[0mk\u001b[0m\u001b[0;34m)\u001b[0m\u001b[0;34m,\u001b[0m\u001b[0;34m\u001b[0m\u001b[0;34m\u001b[0m\u001b[0m\n\u001b[1;32m     28\u001b[0m     \u001b[0mnn\u001b[0m\u001b[0;34m.\u001b[0m\u001b[0mReLU\u001b[0m\u001b[0;34m(\u001b[0m\u001b[0;34m)\u001b[0m\u001b[0;34m,\u001b[0m\u001b[0;34m\u001b[0m\u001b[0;34m\u001b[0m\u001b[0m\n\u001b[0;32m---> 29\u001b[0;31m     \u001b[0mnn\u001b[0m\u001b[0;34m.\u001b[0m\u001b[0mBatchNormld\u001b[0m\u001b[0;34m(\u001b[0m\u001b[0mk\u001b[0m\u001b[0;34m)\u001b[0m\u001b[0;34m,\u001b[0m\u001b[0;34m\u001b[0m\u001b[0;34m\u001b[0m\u001b[0m\n\u001b[0m\u001b[1;32m     30\u001b[0m \u001b[0;34m\u001b[0m\u001b[0m\n\u001b[1;32m     31\u001b[0m     \u001b[0mnn\u001b[0m\u001b[0;34m.\u001b[0m\u001b[0mLinear\u001b[0m\u001b[0;34m(\u001b[0m\u001b[0mk\u001b[0m\u001b[0;34m,\u001b[0m \u001b[0mk\u001b[0m\u001b[0;34m)\u001b[0m\u001b[0;34m,\u001b[0m\u001b[0;34m\u001b[0m\u001b[0;34m\u001b[0m\u001b[0m\n",
      "\u001b[0;31mAttributeError\u001b[0m: module 'torch.nn' has no attribute 'BatchNormld'"
     ]
    }
   ],
   "source": [
    "# Add a Dropout to each Layer that randomly disposes \n",
    "# the dimension of a variable with a probability of 0.5.\n",
    "# k = 100\n",
    "# net = nn.Sequential(\n",
    "#     nn.Linear(64, k),\n",
    "#     nn.ReLU(),\n",
    "#     nn.Dropout(0.5),\n",
    "    \n",
    "#     nn.Linear(k, k),\n",
    "#     nn.ReLU(),\n",
    "#     nn.Dropout(0.5),\n",
    "    \n",
    "#     nn.Linear(k, k),\n",
    "#     nn.ReLU(),\n",
    "#     nn.Dropout(0.5),\n",
    "    \n",
    "#     nn.Linear(k, k),\n",
    "#     nn.ReLU(),\n",
    "#     nn.Dropout(0.5),\n",
    "    \n",
    "#     nn.Linear(k, 10)\n",
    "# )\n",
    "\n",
    "# Apply 'BatchNorm1d' into Linear-Layer.\n",
    "k = 100\n",
    "net = nn.Sequential(\n",
    "    nn.Linear(64, k),\n",
    "    nn.ReLU(),\n",
    "    nn.BatchNorm1d(k),\n",
    "    \n",
    "    nn.Linear(k, k),\n",
    "    nn.ReLU(),\n",
    "    nn.BatchNorm1d(k),\n",
    "    \n",
    "    nn.Linear(k, k),\n",
    "    nn.ReLU(),\n",
    "    nn.BatchNorm1d(k),\n",
    "    \n",
    "    nn.Linear(k, k),\n",
    "    nn.ReLU(),\n",
    "    nn.BatchNorm1d(k),\n",
    "    \n",
    "    nn.Linear(k, 10)\n",
    ")\n",
    "\n",
    "loss_fn = nn.CrossEntropyLoss()\n",
    "optimizer = optim.Adam(net.parameters())"
   ]
  },
  {
   "cell_type": "code",
   "execution_count": null,
   "metadata": {},
   "outputs": [],
   "source": [
    "train_losses = []\n",
    "test_losses = []\n",
    "\n",
    "for epoch in range(100):\n",
    "    running_loss = 0.0\n",
    "    # Set Neural-Network as a Training-Mode.\n",
    "    net.train()\n",
    "    \n",
    "    for i, (xx, yy) in enumerate(loader):\n",
    "        y_pred = net(xx)\n",
    "        loss = loss_fn(y_pred, yy)\n",
    "        optimizer.zero_grad()\n",
    "        \n",
    "        loss.backward()\n",
    "        optimizer.step()\n",
    "        running_loss += loss.item()\n",
    "        \n",
    "    train_losses.append(running_loss / i)\n",
    "    \n",
    "    # Set the neural network into evaluation mode \n",
    "    # and calculate the loss function of the verification data.\n",
    "    net.eval()\n",
    "    y_pred = net(X_test)\n",
    "    test_loss = loss_fn(y_pred, Y_test)\n",
    "    test_losses.append(test_loss.item())\n",
    "\n",
    "    print(\"After trained each data of running_loss : \", running_loss)\n"
   ]
  },
  {
   "cell_type": "code",
   "execution_count": null,
   "metadata": {},
   "outputs": [],
   "source": [
    "%matplotlib inline\n",
    "from matplotlib import pyplot as plt\n",
    "\n",
    "print(\"Train-Losses and Test-Losses\")\n",
    "plt.plot(train_losses)\n",
    "plt.plot(test_losses)"
   ]
  },
  {
   "cell_type": "code",
   "execution_count": null,
   "metadata": {},
   "outputs": [],
   "source": []
  },
  {
   "cell_type": "code",
   "execution_count": null,
   "metadata": {},
   "outputs": [],
   "source": []
  }
 ],
 "metadata": {
  "kernelspec": {
   "display_name": "Python 3",
   "language": "python",
   "name": "python3"
  },
  "language_info": {
   "codemirror_mode": {
    "name": "ipython",
    "version": 3
   },
   "file_extension": ".py",
   "mimetype": "text/x-python",
   "name": "python",
   "nbconvert_exporter": "python",
   "pygments_lexer": "ipython3",
   "version": "3.6.10"
  }
 },
 "nbformat": 4,
 "nbformat_minor": 4
}
