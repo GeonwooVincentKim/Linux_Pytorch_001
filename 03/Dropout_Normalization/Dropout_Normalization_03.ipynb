{
 "cells": [
  {
   "cell_type": "code",
   "execution_count": 24,
   "metadata": {},
   "outputs": [],
   "source": [
    "import torch\n",
    "from torch import nn, optim\n",
    "from torch.utils.data import TensorDataset, DataLoader\n",
    "\n",
    "# Divide Data as Training-Set and Verification-Set.\n",
    "from sklearn.model_selection import train_test_split\n",
    "from sklearn.datasets import load_digits\n",
    "\n",
    "digits = load_digits()"
   ]
  },
  {
   "cell_type": "code",
   "execution_count": 25,
   "metadata": {},
   "outputs": [],
   "source": [
    "X = digits.data\n",
    "Y = digits.target\n",
    "\n",
    "X = torch.tensor(X, dtype=torch.float32)\n",
    "Y = torch.tensor(Y, dtype=torch.int64)\n",
    "\n",
    "X_train, X_test, Y_train, Y_test = train_test_split(X, Y, test_size=0.3)\n",
    "\n",
    "# Re-define variables that got data from train_test_split() function.\n",
    "X_train = torch.tensor(X_train, dtype=torch.float32)\n",
    "Y_train = torch.tensor(Y_train, dtype=torch.int64)\n",
    "X_test = torch.tensor(X_test, dtype=torch.float32)\n",
    "Y_test = torch.tensor(Y_test, dtype=torch.int64)"
   ]
  },
  {
   "cell_type": "code",
   "execution_count": 26,
   "metadata": {},
   "outputs": [],
   "source": [
    "# Create DataSet\n",
    "ds = TensorDataset(X, Y)\n",
    "\n",
    "# Create Data-Loader that returns each of 64 data by shffles sequence.\n",
    "loader = DataLoader(\n",
    "    ds, batch_size=64, shuffle=True\n",
    ")"
   ]
  },
  {
   "cell_type": "code",
   "execution_count": 45,
   "metadata": {},
   "outputs": [],
   "source": [
    "# Add a Dropout to each Layer that randomly disposes \n",
    "# the dimension of a variable with a probability of 0.5.\n",
    "# k = 100\n",
    "# net = nn.Sequential(\n",
    "#     nn.Linear(64, k),\n",
    "#     nn.ReLU(),\n",
    "#     nn.Dropout(0.5),\n",
    "    \n",
    "#     nn.Linear(k, k),\n",
    "#     nn.ReLU(),\n",
    "#     nn.Dropout(0.5),\n",
    "    \n",
    "#     nn.Linear(k, k),\n",
    "#     nn.ReLU(),\n",
    "#     nn.Dropout(0.5),\n",
    "    \n",
    "#     nn.Linear(k, k),\n",
    "#     nn.ReLU(),\n",
    "#     nn.Dropout(0.5),\n",
    "    \n",
    "#     nn.Linear(k, 10)\n",
    "# )\n",
    "\n",
    "# Apply 'BatchNorm1d' into Linear-Layer.\n",
    "k = 100\n",
    "net = nn.Sequential(\n",
    "    nn.Linear(64, k),\n",
    "    nn.ReLU(),\n",
    "    nn.BatchNorm1d(k),\n",
    "    \n",
    "    nn.Linear(k, k),\n",
    "    nn.ReLU(),\n",
    "    nn.BatchNorm1d(k),\n",
    "    \n",
    "    nn.Linear(k, k),\n",
    "    nn.ReLU(),\n",
    "    nn.BatchNorm1d(k),\n",
    "    \n",
    "    nn.Linear(k, k),\n",
    "    nn.ReLU(),\n",
    "    nn.BatchNorm1d(k),\n",
    "    \n",
    "    nn.Linear(k, 10)\n",
    ")\n",
    "\n",
    "loss_fn = nn.CrossEntropyLoss()\n",
    "optimizer = optim.Adam(net.parameters())"
   ]
  },
  {
   "cell_type": "code",
   "execution_count": 46,
   "metadata": {},
   "outputs": [
    {
     "name": "stdout",
     "output_type": "stream",
     "text": [
      "After trained each data of running_loss :  42.817539274692535\n",
      "After trained each data of running_loss :  16.948778122663498\n",
      "After trained each data of running_loss :  9.319370359182358\n",
      "After trained each data of running_loss :  4.900746129453182\n",
      "After trained each data of running_loss :  3.677709087729454\n",
      "After trained each data of running_loss :  4.740220360457897\n",
      "After trained each data of running_loss :  3.20699168369174\n",
      "After trained each data of running_loss :  2.865608546882868\n",
      "After trained each data of running_loss :  2.5669742971658707\n",
      "After trained each data of running_loss :  1.3722136579453945\n",
      "After trained each data of running_loss :  1.4520196095108986\n",
      "After trained each data of running_loss :  1.440604530274868\n",
      "After trained each data of running_loss :  0.9417640119791031\n",
      "After trained each data of running_loss :  0.9616775289177895\n",
      "After trained each data of running_loss :  1.6023657470941544\n",
      "After trained each data of running_loss :  2.6944546923041344\n",
      "After trained each data of running_loss :  1.9474605023860931\n",
      "After trained each data of running_loss :  1.290181003510952\n",
      "After trained each data of running_loss :  0.7221430987119675\n",
      "After trained each data of running_loss :  0.9555500224232674\n",
      "After trained each data of running_loss :  1.4060483127832413\n",
      "After trained each data of running_loss :  1.22165771946311\n",
      "After trained each data of running_loss :  2.0791484490036964\n",
      "After trained each data of running_loss :  1.0043071694672108\n",
      "After trained each data of running_loss :  2.2701577097177505\n",
      "After trained each data of running_loss :  1.5539593659341335\n",
      "After trained each data of running_loss :  1.128777626901865\n",
      "After trained each data of running_loss :  0.8503309320658445\n",
      "After trained each data of running_loss :  0.8883748315274715\n",
      "After trained each data of running_loss :  4.118900462985039\n",
      "After trained each data of running_loss :  1.5902918688952923\n",
      "After trained each data of running_loss :  1.0853607505559921\n",
      "After trained each data of running_loss :  1.3720481880009174\n",
      "After trained each data of running_loss :  0.6153924558311701\n",
      "After trained each data of running_loss :  1.410235684365034\n",
      "After trained each data of running_loss :  1.4633479788899422\n",
      "After trained each data of running_loss :  1.8541156761348248\n",
      "After trained each data of running_loss :  1.4653738290071487\n",
      "After trained each data of running_loss :  2.180678941309452\n",
      "After trained each data of running_loss :  1.3106719925999641\n",
      "After trained each data of running_loss :  2.884292393922806\n",
      "After trained each data of running_loss :  1.409136064350605\n",
      "After trained each data of running_loss :  1.8632842972874641\n",
      "After trained each data of running_loss :  1.508068758994341\n",
      "After trained each data of running_loss :  0.8626648914068937\n",
      "After trained each data of running_loss :  2.309839941561222\n",
      "After trained each data of running_loss :  2.29474276304245\n",
      "After trained each data of running_loss :  2.4813817515969276\n",
      "After trained each data of running_loss :  3.7052936404943466\n",
      "After trained each data of running_loss :  3.580717973411083\n",
      "After trained each data of running_loss :  1.3611222505569458\n",
      "After trained each data of running_loss :  0.6829181052744389\n",
      "After trained each data of running_loss :  1.4120773375034332\n",
      "After trained each data of running_loss :  1.3381826616823673\n",
      "After trained each data of running_loss :  1.1166658885776997\n",
      "After trained each data of running_loss :  0.7058362029492855\n",
      "After trained each data of running_loss :  2.133669536560774\n",
      "After trained each data of running_loss :  0.7350995056331158\n",
      "After trained each data of running_loss :  0.46217120671644807\n",
      "After trained each data of running_loss :  0.9879861995577812\n",
      "After trained each data of running_loss :  3.437303986400366\n",
      "After trained each data of running_loss :  1.609535574913025\n",
      "After trained each data of running_loss :  3.0738820880651474\n",
      "After trained each data of running_loss :  1.6297890432178974\n",
      "After trained each data of running_loss :  1.3546196185052395\n",
      "After trained each data of running_loss :  0.9210272468626499\n",
      "After trained each data of running_loss :  0.7241122834384441\n",
      "After trained each data of running_loss :  2.35995864123106\n",
      "After trained each data of running_loss :  0.861787561327219\n",
      "After trained each data of running_loss :  2.5220982432365417\n",
      "After trained each data of running_loss :  2.21111024543643\n",
      "After trained each data of running_loss :  1.0326170027256012\n",
      "After trained each data of running_loss :  0.7065233401954174\n",
      "After trained each data of running_loss :  0.6708951108157635\n",
      "After trained each data of running_loss :  0.8030950725078583\n",
      "After trained each data of running_loss :  0.33884905744343996\n",
      "After trained each data of running_loss :  1.1123812608420849\n",
      "After trained each data of running_loss :  2.6643389388918877\n",
      "After trained each data of running_loss :  0.45989109575748444\n",
      "After trained each data of running_loss :  0.9158372022211552\n",
      "After trained each data of running_loss :  0.7416358813643456\n",
      "After trained each data of running_loss :  0.6980819366872311\n",
      "After trained each data of running_loss :  0.4923449195921421\n",
      "After trained each data of running_loss :  1.3847351670265198\n",
      "After trained each data of running_loss :  1.1305020973086357\n",
      "After trained each data of running_loss :  0.8132055699825287\n",
      "After trained each data of running_loss :  0.6692995876073837\n",
      "After trained each data of running_loss :  1.7790538668632507\n",
      "After trained each data of running_loss :  0.8744231946766376\n",
      "After trained each data of running_loss :  0.417501884046942\n",
      "After trained each data of running_loss :  1.1254545524716377\n",
      "After trained each data of running_loss :  3.2750640250742435\n",
      "After trained each data of running_loss :  1.7303651347756386\n",
      "After trained each data of running_loss :  4.612286817282438\n",
      "After trained each data of running_loss :  0.7985793873667717\n",
      "After trained each data of running_loss :  0.4712464287877083\n",
      "After trained each data of running_loss :  0.2539195166900754\n",
      "After trained each data of running_loss :  1.9531408175826073\n",
      "After trained each data of running_loss :  1.240051668137312\n",
      "After trained each data of running_loss :  1.0922306291759014\n"
     ]
    }
   ],
   "source": [
    "train_losses = []\n",
    "test_losses = []\n",
    "\n",
    "for epoch in range(100):\n",
    "    running_loss = 0.0\n",
    "    # Set Neural-Network as a Training-Mode.\n",
    "    net.train()\n",
    "    \n",
    "    for i, (xx, yy) in enumerate(loader):\n",
    "        y_pred = net(xx)\n",
    "        loss = loss_fn(y_pred, yy)\n",
    "        optimizer.zero_grad()\n",
    "        \n",
    "        loss.backward()\n",
    "        optimizer.step()\n",
    "        running_loss += loss.item()\n",
    "        \n",
    "    train_losses.append(running_loss / i)\n",
    "    \n",
    "    # Set the neural network into evaluation mode \n",
    "    # and calculate the loss function of the verification data.\n",
    "    net.eval()\n",
    "    y_pred = net(X_test)\n",
    "    test_loss = loss_fn(y_pred, Y_test)\n",
    "    test_losses.append(test_loss.item())\n",
    "\n",
    "    print(\"After trained each data of running_loss : \", running_loss)\n"
   ]
  },
  {
   "cell_type": "code",
   "execution_count": 47,
   "metadata": {},
   "outputs": [
    {
     "name": "stdout",
     "output_type": "stream",
     "text": [
      "Train-Losses and Test-Losses\n"
     ]
    },
    {
     "data": {
      "text/plain": [
       "[<matplotlib.lines.Line2D at 0x7fd327d01b70>]"
      ]
     },
     "execution_count": 47,
     "metadata": {},
     "output_type": "execute_result"
    },
    {
     "data": {
      "image/png": "[encoded data removed]",
      "text/plain": [
       "<Figure size 432x288 with 1 Axes>"
      ]
     },
     "metadata": {
      "needs_background": "light"
     },
     "output_type": "display_data"
    }
   ],
   "source": [
    "%matplotlib inline\n",
    "from matplotlib import pyplot as plt\n",
    "\n",
    "print(\"Train-Losses and Test-Losses\")\n",
    "plt.plot(train_losses)\n",
    "plt.plot(test_losses)"
   ]
  },
  {
   "cell_type": "code",
   "execution_count": null,
   "metadata": {},
   "outputs": [],
   "source": []
  },
  {
   "cell_type": "code",
   "execution_count": null,
   "metadata": {},
   "outputs": [],
   "source": []
  }
 ],
 "metadata": {
  "kernelspec": {
   "display_name": "Python 3",
   "language": "python",
   "name": "python3"
  },
  "language_info": {
   "codemirror_mode": {
    "name": "ipython",
    "version": 3
   },
   "file_extension": ".py",
   "mimetype": "text/x-python",
   "name": "python",
   "nbconvert_exporter": "python",
   "pygments_lexer": "ipython3",
   "version": "3.6.10"
  }
 },
 "nbformat": 4,
 "nbformat_minor": 4
}
