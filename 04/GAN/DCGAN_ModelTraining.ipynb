{
 "cells": [
  {
   "cell_type": "code",
   "execution_count": 2,
   "metadata": {},
   "outputs": [],
   "source": [
    "import import_ipynb\n",
    "from statistics import mean\n",
    "\n",
    "from DCGAN import *"
   ]
  },
  {
   "cell_type": "code",
   "execution_count": 3,
   "metadata": {},
   "outputs": [],
   "source": [
    "\"\"\"\n",
    "    :g -> GNet Class\n",
    "    :d -> DNet Class\n",
    "    :opt_g -> GNet's Adam parameter\n",
    "    :opt_d -> DNet's Adam parameter\n",
    "\"\"\"\n",
    "def train_dcgan(g, d, opt_g, opt_d, loader):\n",
    "    # An Array that tracks Generation-Model and Discrimination-Model \n",
    "    # by using Purpose-Function.\n",
    "    log_loss_g = []\n",
    "    log_loss_d = []\n",
    "    \n",
    "    for real_img, _ in tqdm.tqdm(loader):\n",
    "        batch_len = len(real_img)\n",
    "        \n",
    "        # Copy Real-Images to GPU.\n",
    "        # (\n",
    "        #   But this computer model does not support CPU,\n",
    "        #   so, I'm going to use CPU only.\n",
    "        # )\n",
    "        real_img = real_img.to(DISPLAY)\n",
    "        \n",
    "        # Generates Fake-Images by using Randomize-Number and\n",
    "        # Generation-Model.\n",
    "        z = torch.randn(batch_len, nz, 1, 1).to(DISPLAY)\n",
    "        fake_img = g(z)\n",
    "        \n",
    "        # Save Fake-Images value only to use this later.\n",
    "        fake_img_tensor = fake_img.detach()\n",
    "        \n",
    "        # Calculate Evaluation-Function of Generation-Model\n",
    "        # about Fake-Images.\n",
    "        out = d(fake_img)\n",
    "        loss_g = loss_f(out, ones[: batch_len])\n",
    "        log_loss_g.append(loss_g.item())\n",
    "        \n",
    "        # Since Calculation-Graph relies on \n",
    "        # both Generation-Model and Discrimination-Model, \n",
    "        # both sides perform differential calculation and parameter \n",
    "        # renewal after the Gradient-Descent is completed.\n",
    "        d.zero_grad(), g.zero_grad()\n",
    "        loss_g.backward()\n",
    "        opt_g.step()\n",
    "        \n",
    "        # Calculate Discrimination-Model of Evaluation-Function\n",
    "        # about Real-Images.\n",
    "        real_out = d(real_img)\n",
    "        loss_d_real = loss_f(real_out, ones[: batch_len])\n",
    "        \n",
    "        # Pytorch cannot backward for 2-times on Calculation-Graph\n",
    "        # that included Equal-Tensor.\n",
    "        # Therefore, Skip Unnecessary-Calculation by using Save-Tensor.\n",
    "        fake_img = fake_img_tensor\n",
    "        \n",
    "        # Calculate Evaluation-Function of Discrimination-Model \n",
    "        # about Fake-Images.\n",
    "        fake_out = d(fake_img_tensor)\n",
    "        loss_d_fake = loss_f(fake_out, zeros[: batch_len])\n",
    "        \n",
    "        # Sum of Truth-Evaluation-Function.\n",
    "        loss_d = loss_d_real + loss_d_fake\n",
    "        log_loss_d.append(loss_d.item())\n",
    "        \n",
    "        # Update Discrimination-Model of Differential-Calculation\n",
    "        # and Parameter.\n",
    "        d.zero_grad(), g.zero_grad()\n",
    "        loss_d.backward()\n",
    "        opt_d.step()\n",
    "    \n",
    "    return mean(log_loss_g), mean(log_loss_d)"
   ]
  },
  {
   "cell_type": "code",
   "execution_count": null,
   "metadata": {},
   "outputs": [
    {
     "name": "stderr",
     "output_type": "stream",
     "text": [
      " 66%|██████▌   | 84/128 [05:09<04:25,  6.03s/it]"
     ]
    }
   ],
   "source": [
    "# Training DCGAN\n",
    "for epoch in range(20):\n",
    "    train_dcgan(g, d, opt_g, opt_d, img_loader)\n",
    "    \n",
    "    # Save Training-Result in every 10-times iteration.\n",
    "    if epoch % 10 == 0:\n",
    "        # Save Parameter\n",
    "        torch.save(\n",
    "            g.state_dict(),\n",
    "            \"../04/g_{:03d}.prm\".format(epoch),\n",
    "            pickle_protocol=4\n",
    "        )\n",
    "        \n",
    "        torch.save(\n",
    "            d.state_dict(),\n",
    "            \"../04/d_{:03d}.prm\".format(epoch),\n",
    "            pickle_protocol=4\n",
    "        )\n",
    "        # Save Generated Image from 'z', for Monitoring.\n",
    "        generated_img = g(fixed_z)\n",
    "        save_image(generated_img,\n",
    "                  \"../04/g_{:03d}.jpg\".format(epoch))"
   ]
  },
  {
   "cell_type": "code",
   "execution_count": null,
   "metadata": {},
   "outputs": [],
   "source": [
    "from IPython.display import Image, display_jpeg\n",
    "display_jpeg(Image('../04/oxford-102/000.jpg'))"
   ]
  },
  {
   "cell_type": "code",
   "execution_count": null,
   "metadata": {},
   "outputs": [],
   "source": []
  },
  {
   "cell_type": "code",
   "execution_count": null,
   "metadata": {},
   "outputs": [],
   "source": []
  }
 ],
 "metadata": {
  "kernelspec": {
   "display_name": "Python 3",
   "language": "python",
   "name": "python3"
  },
  "language_info": {
   "codemirror_mode": {
    "name": "ipython",
    "version": 3
   },
   "file_extension": ".py",
   "mimetype": "text/x-python",
   "name": "python",
   "nbconvert_exporter": "python",
   "pygments_lexer": "ipython3",
   "version": "3.6.10"
  }
 },
 "nbformat": 4,
 "nbformat_minor": 4
}
