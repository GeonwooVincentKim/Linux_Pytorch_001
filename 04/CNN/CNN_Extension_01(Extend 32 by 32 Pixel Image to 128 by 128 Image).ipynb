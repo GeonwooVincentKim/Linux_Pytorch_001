{
 "cells": [
  {
   "cell_type": "code",
   "execution_count": 2,
   "metadata": {},
   "outputs": [],
   "source": [
    "import math\n",
    "\n",
    "import torch\n",
    "import torchvision\n",
    "import tqdm\n",
    "\n",
    "from torch import nn, optim\n",
    "from torch.utils.data import Dataset, DataLoader, TensorDataset\n",
    "from torchvision.datasets import FashionMNIST,  ImageFolder\n",
    "from torchvision import transforms, models\n",
    "from torchvision.utils import save_image\n",
    "\n",
    "from IPython.display import Image, display_jpeg"
   ]
  },
  {
   "cell_type": "code",
   "execution_count": 3,
   "metadata": {},
   "outputs": [],
   "source": [
    "\"\"\"\n",
    "    Prepare LFW Data size as 250 by 250.\n",
    "    \n",
    "    Tip: \n",
    "    How are the Image-sizes configures and replaced with Batch-size?\n",
    "    - 1. How are the Image-sizes configues?\n",
    "         (There are some comments contained batch-size.)\n",
    "      -- 1. The meaning of batch-size are use for divide Image data \n",
    "            how many data you want to use.\n",
    "    \n",
    "      -- 2. For example, There is a Image that sizes are 784 \n",
    "            consists width and height as 28. \n",
    "    \n",
    "      -- 3. Therefore, when you multiple width and height which have \n",
    "            same values both of them, the result will became 784.\n",
    "    \n",
    "    - 2. Replacing Image-sizes with Batch-Size.\n",
    "      -- 1. Batch-Size is applied to Image-Data-Division to classify\n",
    "            images and training images easier.\n",
    "            \n",
    "      -- 2. For example, There is a Image that sizes are 784\n",
    "            consists width and height as 28.\n",
    "      \n",
    "      -- 3. Therefore, we can set Batch-Size at least bigger \n",
    "            than one-lines, which means the Batch-Size should \n",
    "            become two-lines (56).    \n",
    "\"\"\"\n",
    "class DownSizedPairImageFolder(ImageFolder):\n",
    "    def __init__(self, root, transform=None,\n",
    "                large_size=128, small_size=32, **kwds):\n",
    "        super().__init__(root, transform=transform, **kwds)\n",
    "        self.large_resizer = transforms.Resize(large_size)\n",
    "        self.small_resizer = transforms.Resize(small_size)\n",
    "        \n",
    "    def __getitem__(self, index):\n",
    "        path, _ = self.imgs[index]\n",
    "        img = self.loader(path)\n",
    "        \n",
    "        # Resize Read-Image as 128 X 128 pixel and 32 X 32.\n",
    "        large_img = self.large_resizer(img)\n",
    "        small_img = self.small_resizer(img)\n",
    "        \n",
    "        # Apply Convert Other Objects.\n",
    "        if self.transform is not None:\n",
    "            large_img = self.transform(large_img)\n",
    "            small_img = self.transform(small_img)\n",
    "            \n",
    "        # Convert 32-Pixel Image and 128-Pixel Image.\n",
    "        return small_img, large_img"
   ]
  },
  {
   "cell_type": "code",
   "execution_count": 4,
   "metadata": {},
   "outputs": [],
   "source": [
    "# train_data = FashionMNIST(\n",
    "#     \"04/FashionMNIST\",\n",
    "#     train=True, download=True,\n",
    "#     transform = transforms.ToTensor()\n",
    "# )\n",
    "train_data = DownSizedPairImageFolder(\n",
    "    \"../04/lfw-deepfunneled/train\",\n",
    "    transform=transforms.ToTensor()\n",
    ")\n",
    "\n",
    "test_data = DownSizedPairImageFolder(\n",
    "    \"../04/lfw-deepfunneled/test\",\n",
    "    transform=transforms.ToTensor()\n",
    ")\n",
    "\n",
    "batch_size = 32\n",
    "train_loader = DataLoader(train_data, batch_size=batch_size,\n",
    "                         shuffle=True, num_workers=4)\n",
    "test_loader = DataLoader(test_data, batch_size, \n",
    "                         shuffle=False, num_workers=4)"
   ]
  },
  {
   "cell_type": "code",
   "execution_count": 5,
   "metadata": {},
   "outputs": [],
   "source": [
    "# Define Neural-Network.\n",
    "net = nn.Sequential(\n",
    "    nn.Conv2d(3, 256, 4,\n",
    "             stride=2, padding=1),\n",
    "    nn.ReLU(),\n",
    "    nn.BatchNorm2d(256),\n",
    "    nn.Conv2d(256, 512, 4,\n",
    "             stride=2, padding=1),\n",
    "    \n",
    "    nn.ReLU(),\n",
    "    nn.BatchNorm2d(512),\n",
    "    nn.ConvTranspose2d(512, 256, 4,\n",
    "                      stride=2, padding=1),\n",
    "    \n",
    "    nn.ReLU(),\n",
    "    nn.BatchNorm2d(256),\n",
    "    nn.ConvTranspose2d(256, 128, 4,\n",
    "                      stride=2, padding=1),\n",
    "    \n",
    "    nn.ReLU(),\n",
    "    nn.BatchNorm2d(128),\n",
    "    nn.ConvTranspose2d(128, 64, 4,\n",
    "                      stride=2, padding=1),\n",
    "    \n",
    "    nn.ReLU(),\n",
    "    nn.BatchNorm2d(64),\n",
    "    nn.ConvTranspose2d(64, 3, 4,\n",
    "                      stride=2, padding=1)\n",
    ")"
   ]
  },
  {
   "cell_type": "code",
   "execution_count": 6,
   "metadata": {},
   "outputs": [],
   "source": [
    "def psnr(mse, max_v=1.0):\n",
    "    return 10 * math.log10(max_v ** 2 / mse)\n",
    "\n",
    "# Evaluate-Helper Function\n",
    "def eval_net(net, data_loader, device=\"cuda:0\"):\n",
    "    # Invalidation Dropout and BatchNorm.\n",
    "    net.eval()\n",
    "    ys = []\n",
    "    ypreds = []\n",
    "    \n",
    "    for x, y in data_loader:\n",
    "        x = x.to(device)\n",
    "        y = y.to(device)\n",
    "        \n",
    "        # If torch has no gradient.\n",
    "        with torch.no_grad():\n",
    "            y_pred = net(x)\n",
    "        ys.append(y)\n",
    "        ypreds.append(y_pred)\n",
    "    \n",
    "    # Collection of Prediction-Result etc. \n",
    "    # in Mini-Batch units into one.\n",
    "    ys = torch.cat(ys)\n",
    "    ypreds = torch.cat(ypreds)\n",
    "    \n",
    "    # Calculation Prediction-Accuracy(MSE)\n",
    "    score = nn.functional.mse_loss(ypreds, ys).item()\n",
    "    return score\n",
    "    "
   ]
  },
  {
   "cell_type": "code",
   "execution_count": 7,
   "metadata": {},
   "outputs": [],
   "source": [
    "# Training-Helper Function\n",
    "def train_net(net, train_loader, test_loader,\n",
    "             optimizer_cls=optim.Adam,\n",
    "             loss_fn=nn.MSELoss(),\n",
    "             n_iter=10, device=\"cuda:0\"):\n",
    "    train_losses = []\n",
    "    train_acc = []\n",
    "    val_acc = []\n",
    "    optimizer = optimizer_cls(net.parameters())\n",
    "    \n",
    "    for epoch in range(n_iter):\n",
    "        running_loss = 0.0\n",
    "        # Set Neural-Network as a Training-Mode.\n",
    "        net.train()\n",
    "        n = 0\n",
    "        score = 0\n",
    "        \n",
    "        # It takes lots of time to train Model,\n",
    "        # so display Progress-Bar by using tqdm.\n",
    "        for i, (xx, yy) in tqdm.tqdm(\n",
    "            enumerate(train_loader),\n",
    "            total=len(train_loader)\n",
    "        ):\n",
    "            xx = xx.to(device)\n",
    "            yy = yy.to(device)\n",
    "            y_pred = net(xx)\n",
    "            loss = loss_fn(y_pred, yy)\n",
    "            optimizer.zero_grad()\n",
    "            loss.backward()\n",
    "            optimizer.step()\n",
    "            running_loss += loss.item()\n",
    "            n +=len(xx)\n",
    "        \n",
    "        train_losses.append(running_loss / len(train_loader))\n",
    "        # The Training-Accuracy of Vertification-Data.\n",
    "        val_acc.append(eval_net(net, test_loader, device))\n",
    "        \n",
    "        # Display Result of Epoch\n",
    "        print(epoch, train_losses[-1],\n",
    "              psnr(train_losses[-1]), psnr(val_acc[-1]), flush=True)"
   ]
  },
  {
   "cell_type": "code",
   "execution_count": 8,
   "metadata": {},
   "outputs": [
    {
     "data": {
      "text/plain": [
       "Sequential(\n",
       "  (0): Conv2d(3, 256, kernel_size=(4, 4), stride=(2, 2), padding=(1, 1))\n",
       "  (1): ReLU()\n",
       "  (2): BatchNorm2d(256, eps=1e-05, momentum=0.1, affine=True, track_running_stats=True)\n",
       "  (3): Conv2d(256, 512, kernel_size=(4, 4), stride=(2, 2), padding=(1, 1))\n",
       "  (4): ReLU()\n",
       "  (5): BatchNorm2d(512, eps=1e-05, momentum=0.1, affine=True, track_running_stats=True)\n",
       "  (6): ConvTranspose2d(512, 256, kernel_size=(4, 4), stride=(2, 2), padding=(1, 1))\n",
       "  (7): ReLU()\n",
       "  (8): BatchNorm2d(256, eps=1e-05, momentum=0.1, affine=True, track_running_stats=True)\n",
       "  (9): ConvTranspose2d(256, 128, kernel_size=(4, 4), stride=(2, 2), padding=(1, 1))\n",
       "  (10): ReLU()\n",
       "  (11): BatchNorm2d(128, eps=1e-05, momentum=0.1, affine=True, track_running_stats=True)\n",
       "  (12): ConvTranspose2d(128, 64, kernel_size=(4, 4), stride=(2, 2), padding=(1, 1))\n",
       "  (13): ReLU()\n",
       "  (14): BatchNorm2d(64, eps=1e-05, momentum=0.1, affine=True, track_running_stats=True)\n",
       "  (15): ConvTranspose2d(64, 3, kernel_size=(4, 4), stride=(2, 2), padding=(1, 1))\n",
       ")"
      ]
     },
     "execution_count": 8,
     "metadata": {},
     "output_type": "execute_result"
    }
   ],
   "source": [
    "net.to(\"cpu\")\n",
    "train_net(net, train_loader, test_loader, device=\"cpu\")"
   ]
  },
  {
   "cell_type": "code",
   "execution_count": 9,
   "metadata": {},
   "outputs": [],
   "source": [
    "# The DataLoader that extracts each 4-datas from Test-Data randomly.\n",
    "random_test_loader = DataLoader(test_data, batch_size=4, shuffle=True)"
   ]
  },
  {
   "cell_type": "code",
   "execution_count": 10,
   "metadata": {},
   "outputs": [],
   "source": [
    "# Convert DataLoader as Python Iterator and extract 4-examples.\n",
    "it = iter(random_test_loader)\n",
    "x, y = next(it)"
   ]
  },
  {
   "cell_type": "code",
   "execution_count": 11,
   "metadata": {},
   "outputs": [
    {
     "name": "stderr",
     "output_type": "stream",
     "text": [
      "/home/kkw/miniconda3/envs/pytorch/lib/python3.6/site-packages/torch/nn/functional.py:1890: UserWarning: nn.functional.upsample is deprecated. Use nn.functional.interpolate instead.\n",
      "  warnings.warn(\"nn.functional.upsample is deprecated. Use nn.functional.interpolate instead.\")\n"
     ]
    }
   ],
   "source": [
    "# Expansion using Bilinear.\n",
    "bl_recon = torch.nn.functional.upsample(\n",
    "    x, 128, mode=\"bilinear\", align_corners=True\n",
    ")\n",
    "# Expand to CNN\n",
    "yp = net.to(\"cpu\")"
   ]
  },
  {
   "cell_type": "code",
   "execution_count": 12,
   "metadata": {
    "scrolled": true
   },
   "outputs": [],
   "source": [
    "# Output (save) images combined with torch.cat, \n",
    "# Billainar, CNN Image and combined with same_image.\n",
    "# save_image(torch.cat([y, bl_recon, yp], 0), \"cnn_upscale.jpg\", nrow=4)\n",
    "save_image(bl_recon, \"cnn_upscale.jpg\")"
   ]
  },
  {
   "cell_type": "code",
   "execution_count": 13,
   "metadata": {},
   "outputs": [
    {
     "data": {
      "image/jpeg": "[encoded data removed]"
     },
     "metadata": {},
     "output_type": "display_data"
    }
   ],
   "source": [
    "display_jpeg(Image(\"cnn_upscale.jpg\"))"
   ]
  },
  {
   "cell_type": "code",
   "execution_count": null,
   "metadata": {},
   "outputs": [],
   "source": []
  },
  {
   "cell_type": "code",
   "execution_count": null,
   "metadata": {},
   "outputs": [],
   "source": []
  },
  {
   "cell_type": "code",
   "execution_count": null,
   "metadata": {},
   "outputs": [],
   "source": []
  },
  {
   "cell_type": "code",
   "execution_count": null,
   "metadata": {},
   "outputs": [],
   "source": []
  }
 ],
 "metadata": {
  "kernelspec": {
   "display_name": "Python 3",
   "language": "python",
   "name": "python3"
  },
  "language_info": {
   "codemirror_mode": {
    "name": "ipython",
    "version": 3
   },
   "file_extension": ".py",
   "mimetype": "text/x-python",
   "name": "python",
   "nbconvert_exporter": "python",
   "pygments_lexer": "ipython3",
   "version": "3.6.10"
  }
 },
 "nbformat": 4,
 "nbformat_minor": 4
}
