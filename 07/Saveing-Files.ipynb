{
 "cells": [
  {
   "cell_type": "code",
   "execution_count": 23,
   "metadata": {},
   "outputs": [],
   "source": [
    "import import_ipynb\n",
    "import os\n",
    "import sys\n",
    "module_path = os.path.abspath(os.path.join('..'))\n",
    "if module_path not in sys.path:\n",
    "    sys.path.append(module_path)\n",
    "# 'test06' equals to '06' file-directory.\n",
    "from test06 import DataSet\n",
    "from test06 import *\n",
    "from test06 import DataSet\n",
    "\n",
    "import torch\n",
    "from torch import nn, optim\n",
    "from torch.utils.data import Dataset, DataLoader, TensorDataset"
   ]
  },
  {
   "cell_type": "code",
   "execution_count": 28,
   "metadata": {},
   "outputs": [],
   "source": [
    "# A Neural-Model that training has finished\n",
    "params = net.state_dict()\n",
    "\n",
    "# Save 'net.prm' as file.\n",
    "torch.save(params, \"net.prm\", pickle_protocal=4)\n",
    "\n",
    "# Call 'net.prm'\n",
    "# But it just occurs error since there is no 'net.prm' file.\n",
    "params = torch.load(\"net.prm\", map_location=\"cpu\")\n",
    "net.load_state_dict(params)"
   ]
  },
  {
   "cell_type": "code",
   "execution_count": null,
   "metadata": {},
   "outputs": [],
   "source": []
  }
 ],
 "metadata": {
  "kernelspec": {
   "display_name": "Python 3",
   "language": "python",
   "name": "python3"
  },
  "language_info": {
   "codemirror_mode": {
    "name": "ipython",
    "version": 3
   },
   "file_extension": ".py",
   "mimetype": "text/x-python",
   "name": "python",
   "nbconvert_exporter": "python",
   "pygments_lexer": "ipython3",
   "version": "3.6.10"
  }
 },
 "nbformat": 4,
 "nbformat_minor": 4
}
