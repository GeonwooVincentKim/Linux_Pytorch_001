{
 "cells": [
  {
   "cell_type": "code",
   "execution_count": 1,
   "metadata": {},
   "outputs": [],
   "source": [
    "import torch\n",
    "from torch import nn, optim\n",
    "from torch.utils.data import DataLoader, TensorDataset, Dataset\n",
    "import tqdm"
   ]
  },
  {
   "cell_type": "code",
   "execution_count": 2,
   "metadata": {},
   "outputs": [
    {
     "data": {
      "text/plain": [
       "tensor([1, 2, 3])"
      ]
     },
     "execution_count": 2,
     "metadata": {},
     "output_type": "execute_result"
    }
   ],
   "source": [
    "import torch\n",
    "# torch.tensor([1, 2, 3]).to(\"cuda:0\")\n",
    "torch.tensor([1, 2, 3]).to(\"cpu\")"
   ]
  },
  {
   "cell_type": "code",
   "execution_count": 3,
   "metadata": {},
   "outputs": [],
   "source": [
    "from torchvision import models"
   ]
  },
  {
   "cell_type": "code",
   "execution_count": 4,
   "metadata": {},
   "outputs": [
    {
     "name": "stdout",
     "output_type": "stream",
     "text": [
      "Collecting onnx\n",
      "  Downloading onnx-1.7.0-cp36-cp36m-manylinux1_x86_64.whl (7.4 MB)\n",
      "\u001b[K     |████████████████████████████████| 7.4 MB 5.4 MB/s eta 0:00:01     |█▏                              | 266 kB 887 kB/s eta 0:00:09     |█████▎                          | 1.2 MB 887 kB/s eta 0:00:07     |███████████████▏                | 3.5 MB 887 kB/s eta 0:00:05\n",
      "\u001b[?25hRequirement already satisfied: numpy in /home/kkw/miniconda3/envs/pytorch/lib/python3.6/site-packages (from onnx) (1.14.6)\n",
      "Collecting typing-extensions>=3.6.2.1\n",
      "  Downloading typing_extensions-3.7.4.3-py3-none-any.whl (22 kB)\n",
      "Requirement already satisfied: six in /home/kkw/miniconda3/envs/pytorch/lib/python3.6/site-packages (from onnx) (1.14.0)\n",
      "Requirement already satisfied: protobuf in /home/kkw/miniconda3/envs/pytorch/lib/python3.6/site-packages (from onnx) (3.11.4)\n",
      "Requirement already satisfied: setuptools in /home/kkw/miniconda3/envs/pytorch/lib/python3.6/site-packages (from protobuf->onnx) (47.1.1.post20200604)\n",
      "Installing collected packages: typing-extensions, onnx\n",
      "Successfully installed onnx-1.7.0 typing-extensions-3.7.4.3\n"
     ]
    }
   ],
   "source": [
    "!pip install onnx"
   ]
  },
  {
   "cell_type": "code",
   "execution_count": null,
   "metadata": {},
   "outputs": [],
   "source": []
  }
 ],
 "metadata": {
  "kernelspec": {
   "display_name": "Python 3",
   "language": "python",
   "name": "python3"
  },
  "language_info": {
   "codemirror_mode": {
    "name": "ipython",
    "version": 3
   },
   "file_extension": ".py",
   "mimetype": "text/x-python",
   "name": "python",
   "nbconvert_exporter": "python",
   "pygments_lexer": "ipython3",
   "version": "3.6.10"
  }
 },
 "nbformat": 4,
 "nbformat_minor": 4
}
