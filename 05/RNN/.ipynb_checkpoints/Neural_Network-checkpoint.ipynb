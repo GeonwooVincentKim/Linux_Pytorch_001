{
 "cells": [
  {
   "cell_type": "code",
   "execution_count": 1,
   "metadata": {},
   "outputs": [
    {
     "name": "stdout",
     "output_type": "stream",
     "text": [
      "importing Jupyter notebook from DataSet.ipynb\n",
      "importing Jupyter notebook from RNN_Basic.ipynb\n"
     ]
    }
   ],
   "source": [
    "import import_ipynb\n",
    "\n",
    "from statistics import mean\n",
    "from DataSet import *"
   ]
  },
  {
   "cell_type": "code",
   "execution_count": 2,
   "metadata": {},
   "outputs": [],
   "source": [
    "\"\"\"\n",
    "    Convert Input X into Embedding Time-Series Vector,\n",
    "    and then inputs RNN, connects Last-Output to\n",
    "    1-Dimension-Linear-Layer.\n",
    "\"\"\"\n",
    "class SequenceTaggingNet(nn.Module):\n",
    "    def __init__(\n",
    "        self, num_embeddings,\n",
    "        embedding_dim=50,\n",
    "        hidden_size=50,\n",
    "        num_layers=1,\n",
    "        dropout=0.2\n",
    "    ):\n",
    "        super().__init__()\n",
    "        self.emb = nn.Embedding(\n",
    "            num_embeddings, \n",
    "            embedding_dim,\n",
    "            padding_idx=0\n",
    "        )\n",
    "        self.lstm = nn.LSTM(\n",
    "            embedding_dim,               \n",
    "            hidden_size, \n",
    "            num_layers,\n",
    "            batch_first=True,\n",
    "            dropout=dropout\n",
    "        )\n",
    "        self.linear = nn.Linear(\n",
    "            hidden_size, 1\n",
    "        )\n",
    "        \n",
    "    def forward(self, x, h0=None, l=None):\n",
    "        # Convert ID as an Embedding Multiple-Dimension-Vector.\n",
    "        # 'x' equals to(batch_size, step_size)\n",
    "        # '->' equals to (batch_size, step_size, embedding_dim)\n",
    "        x = self.emb(x)\n",
    "        \n",
    "        # Send a variable 'x' to RNN with Initial-State, h0.\n",
    "        # 'x' equals to(batch_size, step_size, embedding_dim)\n",
    "        # '->' equals to (batch_size, step_size, hidden_dim)\n",
    "        x, h = self.lstm(x, h0)\n",
    "        \n",
    "        # Extract the Last-Phase only.\n",
    "        # 'x' equals to(batch_size, step_size, hidden_dim)\n",
    "        # '->' equals to (batch_size, 1)\n",
    "        if l is not None:\n",
    "            # Use it if Input has an original-length.\n",
    "            x = x[list(range(len(x))), l-1, :]\n",
    "        else:\n",
    "            # Use Last-Phase only if there is no original-length.\n",
    "            x = x[:, -1, :]\n",
    "            \n",
    "        # Input Extracted-Last-Phase to the Linear-Layer.\n",
    "        x = self.linear(x)\n",
    "        \n",
    "        # Delete unnecessary Dimension.\n",
    "        # (batch_size, 1) -> (batch_size, )\n",
    "        x = x.squeeze()\n",
    "        return x\n",
    "            "
   ]
  },
  {
   "cell_type": "code",
   "execution_count": 5,
   "metadata": {},
   "outputs": [],
   "source": [
    "# Training-Code\n",
    "def eval_net(net, data_loader, device=\"cpu\"):\n",
    "    net.eval()\n",
    "    ys = []\n",
    "    ypreds = []\n",
    "    \n",
    "    for x, y, l in data_loader:\n",
    "        x = x.to(device)\n",
    "        y = y.to(device)\n",
    "        l = l.to(device)\n",
    "        \n",
    "        with torch.no_grad():\n",
    "            y_pred = net(x, l=l)\n",
    "            y_pred = (y_pred > 0).long()\n",
    "            ys.append(y)\n",
    "            ypreds.append(y_pred)\n",
    "    \n",
    "    ys = torch.cat(ys)\n",
    "    ypreds = torch.cat(ypreds)\n",
    "    acc = (ys == ypreds).float().sum() / len(ys)\n",
    "    return acc.item()"
   ]
  },
  {
   "cell_type": "code",
   "execution_count": 6,
   "metadata": {},
   "outputs": [
    {
     "name": "stderr",
     "output_type": "stream",
     "text": [
      "100%|██████████| 782/782 [04:23<00:00,  2.97it/s]\n",
      "  0%|          | 0/782 [00:00<?, ?it/s]"
     ]
    },
    {
     "name": "stdout",
     "output_type": "stream",
     "text": [
      "0 0.014537069152554889 1.0 1.0\n"
     ]
    },
    {
     "name": "stderr",
     "output_type": "stream",
     "text": [
      "100%|██████████| 782/782 [04:50<00:00,  2.69it/s]\n",
      "  0%|          | 0/782 [00:00<?, ?it/s]"
     ]
    },
    {
     "name": "stdout",
     "output_type": "stream",
     "text": [
      "1 0.00010868345810513696 1.0 1.0\n"
     ]
    },
    {
     "name": "stderr",
     "output_type": "stream",
     "text": [
      "100%|██████████| 782/782 [04:48<00:00,  2.71it/s]\n",
      "  0%|          | 0/782 [00:00<?, ?it/s]"
     ]
    },
    {
     "name": "stdout",
     "output_type": "stream",
     "text": [
      "2 4.295565683496348e-05 1.0 1.0\n"
     ]
    },
    {
     "name": "stderr",
     "output_type": "stream",
     "text": [
      "100%|██████████| 782/782 [04:29<00:00,  2.91it/s]\n",
      "  0%|          | 0/782 [00:00<?, ?it/s]"
     ]
    },
    {
     "name": "stdout",
     "output_type": "stream",
     "text": [
      "3 2.2045045751026387e-05 1.0 1.0\n"
     ]
    },
    {
     "name": "stderr",
     "output_type": "stream",
     "text": [
      "100%|██████████| 782/782 [02:45<00:00,  4.71it/s]\n",
      "  0%|          | 0/782 [00:00<?, ?it/s]"
     ]
    },
    {
     "name": "stdout",
     "output_type": "stream",
     "text": [
      "4 1.2681106205802927e-05 1.0 1.0\n"
     ]
    },
    {
     "name": "stderr",
     "output_type": "stream",
     "text": [
      "100%|██████████| 782/782 [03:02<00:00,  4.27it/s]\n",
      "  0%|          | 0/782 [00:00<?, ?it/s]"
     ]
    },
    {
     "name": "stdout",
     "output_type": "stream",
     "text": [
      "5 7.760811455865011e-06 1.0 1.0\n"
     ]
    },
    {
     "name": "stderr",
     "output_type": "stream",
     "text": [
      "100%|██████████| 782/782 [02:51<00:00,  4.55it/s]\n",
      "  0%|          | 0/782 [00:00<?, ?it/s]"
     ]
    },
    {
     "name": "stdout",
     "output_type": "stream",
     "text": [
      "6 4.924616569321101e-06 1.0 1.0\n"
     ]
    },
    {
     "name": "stderr",
     "output_type": "stream",
     "text": [
      "100%|██████████| 782/782 [02:52<00:00,  4.54it/s]\n",
      "  0%|          | 0/782 [00:00<?, ?it/s]"
     ]
    },
    {
     "name": "stdout",
     "output_type": "stream",
     "text": [
      "7 3.1971080114304e-06 1.0 1.0\n"
     ]
    },
    {
     "name": "stderr",
     "output_type": "stream",
     "text": [
      "100%|██████████| 782/782 [02:51<00:00,  4.56it/s]\n",
      "  0%|          | 0/782 [00:00<?, ?it/s]"
     ]
    },
    {
     "name": "stdout",
     "output_type": "stream",
     "text": [
      "8 2.104920375194573e-06 1.0 1.0\n"
     ]
    },
    {
     "name": "stderr",
     "output_type": "stream",
     "text": [
      "100%|██████████| 782/782 [03:34<00:00,  3.64it/s]\n"
     ]
    },
    {
     "name": "stdout",
     "output_type": "stream",
     "text": [
      "9 1.402404398590651e-06 1.0 1.0\n"
     ]
    }
   ],
   "source": [
    "# num_embedding has a inputed 'train_data.vocab_size + 1' by including 0.\n",
    "net = SequenceTaggingNet(train_data.vocab_size + 1, num_layers = 2)\n",
    "net.to(\"cpu\")  # Now we don't have 'cuda:0', so set 'net.to()' gets 'cpu'.\n",
    "opt = optim.Adam(net.parameters())\n",
    "loss_f = nn.BCEWithLogitsLoss()\n",
    "\n",
    "for epoch in range(10):\n",
    "    losses = []\n",
    "    net.train()\n",
    "    for x, y, l in tqdm.tqdm(train_loader):\n",
    "        x = x.to(\"cpu\")\n",
    "        y = y.to(\"cpu\")\n",
    "        l = l.to(\"cpu\")\n",
    "        \n",
    "        y_pred = net(x, l=l)\n",
    "        loss = loss_f(y_pred, y.float())\n",
    "        net.zero_grad()\n",
    "        loss.backward()\n",
    "        opt.step()\n",
    "        losses.append(loss.item())\n",
    "    \n",
    "    # Add Model-Data in sequence by model-training-epochs.\n",
    "    # I did not apply \"cuda:0\" or \"gpu\" or \"cuda\" because\n",
    "    # this computer has no GPU.\n",
    "    train_acc = eval_net(net, train_loader, \"cpu\")\n",
    "    val_acc = eval_net(net, test_loader, \"cpu\")\n",
    "    print(epoch, mean(losses), train_acc, val_acc)"
   ]
  },
  {
   "cell_type": "code",
   "execution_count": null,
   "metadata": {},
   "outputs": [],
   "source": []
  },
  {
   "cell_type": "code",
   "execution_count": null,
   "metadata": {},
   "outputs": [],
   "source": []
  }
 ],
 "metadata": {
  "kernelspec": {
   "display_name": "Python 3",
   "language": "python",
   "name": "python3"
  },
  "language_info": {
   "codemirror_mode": {
    "name": "ipython",
    "version": 3
   },
   "file_extension": ".py",
   "mimetype": "text/x-python",
   "name": "python",
   "nbconvert_exporter": "python",
   "pygments_lexer": "ipython3",
   "version": "3.6.10"
  }
 },
 "nbformat": 4,
 "nbformat_minor": 4
}
