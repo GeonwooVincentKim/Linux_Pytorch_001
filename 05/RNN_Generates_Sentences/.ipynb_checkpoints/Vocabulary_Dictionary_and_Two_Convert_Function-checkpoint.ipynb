{
 "cells": [
  {
   "cell_type": "code",
   "execution_count": 1,
   "metadata": {},
   "outputs": [
    {
     "data": {
      "text/plain": [
       "\"\\n    Downloaded input.txt from\\n    'char-rnn/data/tinyshakespeare/input.txt'\\n    that the author of this project named\\n    karpathy.\\n    \\n    Download from here\\n    https://github.com/karpathy/char-rnn/tree/master/data/tinyshakespeare\\n\""
      ]
     },
     "execution_count": 1,
     "metadata": {},
     "output_type": "execute_result"
    }
   ],
   "source": [
    "# Create Dictionary by using all of ascii-code.\n",
    "import string\n",
    "all_chars = string.printable\n",
    "vocab_size = len(all_chars)\n",
    "vocab_dict = dict((c, i) for(i, c) in enumerate(all_chars))\n",
    "\n",
    "\"\"\"\n",
    "    Downloaded input.txt from\n",
    "    'char-rnn/data/tinyshakespeare/input.txt'\n",
    "    that the author of this project named\n",
    "    karpathy.\n",
    "    \n",
    "    Download from here\n",
    "    https://github.com/karpathy/char-rnn/tree/master/data/tinyshakespeare\n",
    "\"\"\""
   ]
  },
  {
   "cell_type": "code",
   "execution_count": 2,
   "metadata": {},
   "outputs": [],
   "source": [
    "# A function that convert String as a Numerical-List.\n",
    "def str2ints(s, vocab_dict):\n",
    "    return [vocab_dict[c] for c in s]"
   ]
  },
  {
   "cell_type": "code",
   "execution_count": 3,
   "metadata": {},
   "outputs": [],
   "source": [
    "# A function that convert Numerical-List as a String.\n",
    "def ints2str(x, vocab_array):\n",
    "    return \"\".join([vocab_array[i] for i in x])"
   ]
  },
  {
   "cell_type": "code",
   "execution_count": null,
   "metadata": {},
   "outputs": [],
   "source": []
  },
  {
   "cell_type": "code",
   "execution_count": null,
   "metadata": {},
   "outputs": [],
   "source": []
  }
 ],
 "metadata": {
  "kernelspec": {
   "display_name": "Python 3",
   "language": "python",
   "name": "python3"
  },
  "language_info": {
   "codemirror_mode": {
    "name": "ipython",
    "version": 3
   },
   "file_extension": ".py",
   "mimetype": "text/x-python",
   "name": "python",
   "nbconvert_exporter": "python",
   "pygments_lexer": "ipython3",
   "version": "3.6.10"
  }
 },
 "nbformat": 4,
 "nbformat_minor": 4
}
