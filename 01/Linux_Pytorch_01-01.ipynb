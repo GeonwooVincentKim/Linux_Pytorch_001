{
 "cells": [
  {
   "cell_type": "code",
   "execution_count": 3,
   "metadata": {},
   "outputs": [],
   "source": [
    "import torch\n",
    "t = torch.tensor([[1, 2, 3], [4, 5, 6]])"
   ]
  },
  {
   "cell_type": "code",
   "execution_count": 4,
   "metadata": {},
   "outputs": [
    {
     "data": {
      "text/plain": [
       "tensor(3)"
      ]
     },
     "execution_count": 4,
     "metadata": {},
     "output_type": "execute_result"
    }
   ],
   "source": [
    "# Subscripting Scalar\n",
    "t[0, 2]"
   ]
  },
  {
   "cell_type": "code",
   "execution_count": 9,
   "metadata": {},
   "outputs": [
    {
     "data": {
      "text/plain": [
       "tensor([[1, 2],\n",
       "        [4, 5]])"
      ]
     },
     "execution_count": 9,
     "metadata": {},
     "output_type": "execute_result"
    }
   ],
   "source": [
    "# Assign as Slice.\n",
    "\n",
    "# The meaning of 2 is we get the list which is in inside.\n",
    "# For example, if there are some list are existing..\n",
    "# [[1, 2], [4, 5]]\n",
    "\n",
    "# The list which has no numbers, but already have Number arrangement \n",
    "# is the Outside-Arrangement.\n",
    "t[:, :2]\n",
    "\n",
    "# And the list which is not existing, but it just show ':' only \n",
    "# is the Inner-Arrangement."
   ]
  },
  {
   "cell_type": "code",
   "execution_count": 10,
   "metadata": {},
   "outputs": [
    {
     "data": {
      "text/plain": [
       "tensor([[2, 3],\n",
       "        [5, 6]])"
      ]
     },
     "execution_count": 10,
     "metadata": {},
     "output_type": "execute_result"
    }
   ],
   "source": [
    "# For make easy, you can set Inner-List or Outer-List \n",
    "# based on 2-Dimensions like this..\n",
    "t[:, [1, 2]]"
   ]
  },
  {
   "cell_type": "code",
   "execution_count": 12,
   "metadata": {},
   "outputs": [
    {
     "ename": "RuntimeError",
     "evalue": "index 10 is out of bounds for dimension 1 with size 3",
     "output_type": "error",
     "traceback": [
      "\u001b[0;31m---------------------------------------------------------------------------\u001b[0m",
      "\u001b[0;31mRuntimeError\u001b[0m                              Traceback (most recent call last)",
      "\u001b[0;32m<ipython-input-12-bfa65c323f47>\u001b[0m in \u001b[0;36m<module>\u001b[0;34m\u001b[0m\n\u001b[1;32m      1\u001b[0m \u001b[0;31m# And probably you can make the List\u001b[0m\u001b[0;34m\u001b[0m\u001b[0;34m\u001b[0m\u001b[0;34m\u001b[0m\u001b[0m\n\u001b[1;32m      2\u001b[0m \u001b[0;31m# which is exceeds The Limit of 2-Dimensions.\u001b[0m\u001b[0;34m\u001b[0m\u001b[0;34m\u001b[0m\u001b[0;34m\u001b[0m\u001b[0m\n\u001b[0;32m----> 3\u001b[0;31m \u001b[0mt\u001b[0m\u001b[0;34m[\u001b[0m\u001b[0;34m:\u001b[0m\u001b[0;34m,\u001b[0m \u001b[0;34m[\u001b[0m\u001b[0;36m1\u001b[0m\u001b[0;34m,\u001b[0m \u001b[0;36m10\u001b[0m\u001b[0;34m]\u001b[0m\u001b[0;34m]\u001b[0m  \u001b[0;31m# And it shows that there is no any List over 2.\u001b[0m\u001b[0;34m\u001b[0m\u001b[0;34m\u001b[0m\u001b[0m\n\u001b[0m",
      "\u001b[0;31mRuntimeError\u001b[0m: index 10 is out of bounds for dimension 1 with size 3"
     ]
    }
   ],
   "source": [
    "# And probably you can make the List \n",
    "# which is exceeds The Limit of 2-Dimensions.\n",
    "t[:, [1, 10]]  # And it shows that there is no any List over 2."
   ]
  },
  {
   "cell_type": "code",
   "execution_count": 13,
   "metadata": {},
   "outputs": [
    {
     "data": {
      "text/plain": [
       "tensor([4, 5, 6])"
      ]
     },
     "execution_count": 13,
     "metadata": {},
     "output_type": "execute_result"
    }
   ],
   "source": [
    "# Use an array of masks to select only some parts\n",
    "# which is greater than 3.\n",
    "t[t > 3]"
   ]
  },
  {
   "cell_type": "code",
   "execution_count": 14,
   "metadata": {},
   "outputs": [],
   "source": [
    "# Set Element of [0, 1] to 100.\n",
    "t[0, 1] = 100"
   ]
  },
  {
   "cell_type": "code",
   "execution_count": 15,
   "metadata": {},
   "outputs": [],
   "source": [
    "# Substitute by using Slice.\n",
    "t[:, 1] = 200"
   ]
  },
  {
   "cell_type": "code",
   "execution_count": 16,
   "metadata": {},
   "outputs": [],
   "source": [
    "# Use an array of masks to replace only elements \n",
    "# with specific conditions.\n",
    "t[t > 10] = 20"
   ]
  },
  {
   "cell_type": "markdown",
   "metadata": {},
   "source": [
    "## Operate Tensor"
   ]
  },
  {
   "cell_type": "code",
   "execution_count": 21,
   "metadata": {},
   "outputs": [],
   "source": [
    "# Operate Tensor\n",
    "v = torch.tensor([1, 2, 3.])\n",
    "w = torch.tensor([0, 10, 20.])\n",
    "# Matrix for 2 x 3\n",
    "m = torch.tensor([[0, 1, 2], [100, 200, 300]])"
   ]
  },
  {
   "cell_type": "code",
   "execution_count": 25,
   "metadata": {},
   "outputs": [],
   "source": [
    "# Addtion for Vector and Scalar\n",
    "v2 = v + 10\n",
    "# Same way for Square\n",
    "v2 = v ** 2\n",
    "# Substraction between Same length of Vector\n",
    "z = v - w\n",
    "# Various Combinations\n",
    "u = 2 * v - w / 10 + 6.0"
   ]
  },
  {
   "cell_type": "code",
   "execution_count": null,
   "metadata": {},
   "outputs": [],
   "source": [
    "v = torch.tensor([1, 2, 3])\n",
    "m = torch.tensor([[0, 1, 2], [100, 200, 300]])\n",
    "# Matrix and Scalar\n",
    "m2 = m * 2.0\n",
    "# Matrix and Vector\n",
    "# The Broadcast is working \n",
    "# because it already has (2, 3) Matrix and (3, ) Vector.\n",
    "m3 = m + v\n",
    "# Inter-Matrix Processing\n",
    "m4 = m + m # Not a m4 you thinking about."
   ]
  },
  {
   "cell_type": "markdown",
   "metadata": {},
   "source": [
    "## Math Function"
   ]
  },
  {
   "cell_type": "code",
   "execution_count": 35,
   "metadata": {},
   "outputs": [],
   "source": [
    "# Generate Test Data 100 * 10\n",
    "X = torch.randn(100, 10)"
   ]
  },
  {
   "cell_type": "code",
   "execution_count": 36,
   "metadata": {},
   "outputs": [],
   "source": [
    "# Formulas containing Mathemedical Functions.\n",
    "y = X + 2 + torch.abs(X)"
   ]
  },
  {
   "cell_type": "code",
   "execution_count": 37,
   "metadata": {},
   "outputs": [],
   "source": [
    "# Find an Average\n",
    "m = torch.mean(X)"
   ]
  },
  {
   "cell_type": "code",
   "execution_count": 38,
   "metadata": {},
   "outputs": [],
   "source": [
    "# Can use as a Method not a Function.\n",
    "m = X.mean()"
   ]
  },
  {
   "cell_type": "code",
   "execution_count": 39,
   "metadata": {},
   "outputs": [],
   "source": [
    "# The aggregated result can be extracted \n",
    "# using the item method as a 0-dimensional tensor.\n",
    "m_value = m.item()\n",
    "\n",
    "# Aggregates can also specify dimensions. \n",
    "# Next, we aggregate in the row direction and \n",
    "# calculate the average value in units of columns.\n",
    "m2 = X.mean(0)"
   ]
  },
  {
   "cell_type": "markdown",
   "metadata": {},
   "source": [
    "## Controling Index Example of Tensor"
   ]
  },
  {
   "cell_type": "code",
   "execution_count": 5,
   "metadata": {},
   "outputs": [],
   "source": [
    "import torch\n",
    "x1 = torch.tensor([[1, 2], [3, 4.]]) # 2 x 2\n",
    "x2 = torch.tensor([[10, 20, 30], [40, 50, 60.]]) # 2 x 3"
   ]
  },
  {
   "cell_type": "code",
   "execution_count": 11,
   "metadata": {},
   "outputs": [
    {
     "data": {
      "text/plain": [
       "tensor([[1., 2., 3., 4.]])"
      ]
     },
     "execution_count": 11,
     "metadata": {},
     "output_type": "execute_result"
    }
   ],
   "source": [
    "# Show 2 x 2 as 4 x 1\n",
    "x1.view(4, 1)\n",
    "# -1 is replaced by an automated value that can be expressed and can only be used once.\n",
    "# For example below, -1 automatically results in a 4.\n",
    "x1.view(1, -1)"
   ]
  },
  {
   "cell_type": "code",
   "execution_count": 12,
   "metadata": {},
   "outputs": [
    {
     "data": {
      "text/plain": [
       "tensor([[ 1.,  2., 10., 20., 30.],\n",
       "        [ 3.,  4., 40., 50., 60.]])"
      ]
     },
     "execution_count": 12,
     "metadata": {},
     "output_type": "execute_result"
    }
   ],
   "source": [
    "# Transpose 2 x 3 into 3 x 2.\n",
    "x2.t()\n",
    "\n",
    "# Create 2 x 5 Tensor when unit as dim=1.\n",
    "torch.cat([x1, x2], dim=1)"
   ]
  },
  {
   "cell_type": "code",
   "execution_count": 15,
   "metadata": {},
   "outputs": [],
   "source": [
    "# Convert HWC to CHW \n",
    "# 64 x 32 x 3 have 100 data.\n",
    "hwc_img_data = torch.rand(100, 64, 32, 3)\n",
    "chw_img_data = hwc_img_data.transpose(1, 2).transpose(1, 3)"
   ]
  },
  {
   "cell_type": "markdown",
   "metadata": {},
   "source": [
    "## Example of Calculation"
   ]
  },
  {
   "cell_type": "code",
   "execution_count": 16,
   "metadata": {},
   "outputs": [],
   "source": [
    "m = torch.randn(100, 10)\n",
    "v = torch.randn(10)"
   ]
  },
  {
   "cell_type": "code",
   "execution_count": 17,
   "metadata": {},
   "outputs": [],
   "source": [
    "# Inner Code\n",
    "d = torch.dot(v, v)"
   ]
  },
  {
   "cell_type": "code",
   "execution_count": 19,
   "metadata": {},
   "outputs": [],
   "source": [
    "# The Matrix of 100 x 10 and The Product of 10 Vectors in length.\n",
    "# The result is a vector with a length of 100.\n",
    "v2 = torch.mv(m, v)"
   ]
  },
  {
   "cell_type": "code",
   "execution_count": 20,
   "metadata": {},
   "outputs": [],
   "source": [
    "# Matrix Product\n",
    "m2 = torch.mm(m.t(), m)"
   ]
  },
  {
   "cell_type": "code",
   "execution_count": 21,
   "metadata": {},
   "outputs": [],
   "source": [
    "# Singular Value Decomposition\n",
    "u, s, v = torch.svd(m)"
   ]
  }
 ],
 "metadata": {
  "kernelspec": {
   "display_name": "Python 3",
   "language": "python",
   "name": "python3"
  },
  "language_info": {
   "codemirror_mode": {
    "name": "ipython",
    "version": 3
   },
   "file_extension": ".py",
   "mimetype": "text/x-python",
   "name": "python",
   "nbconvert_exporter": "python",
   "pygments_lexer": "ipython3",
   "version": "3.6.10"
  }
 },
 "nbformat": 4,
 "nbformat_minor": 4
}
