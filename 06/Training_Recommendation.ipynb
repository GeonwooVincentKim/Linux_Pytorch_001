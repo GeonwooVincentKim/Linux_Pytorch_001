{
 "cells": [
  {
   "cell_type": "code",
   "execution_count": 49,
   "metadata": {},
   "outputs": [],
   "source": [
    "import import_ipynb\n",
    "\n",
    "from statistics import mean\n",
    "from DataSet import *"
   ]
  },
  {
   "cell_type": "code",
   "execution_count": 50,
   "metadata": {},
   "outputs": [],
   "source": [
    "net.to(\"cuda:0\")\n",
    "opt = optim.Adam(net.parameters(), lr=0.01)\n",
    "loss_f = nn.MSELoss()"
   ]
  },
  {
   "cell_type": "code",
   "execution_count": 51,
   "metadata": {},
   "outputs": [
    {
     "name": "stderr",
     "output_type": "stream",
     "text": [
      "100%|██████████| 17579/17579 [04:51<00:00, 60.21it/s]\n"
     ]
    },
    {
     "name": "stdout",
     "output_type": "stream",
     "text": [
      "0 0.7801136108610883 0.6461886763572693\n"
     ]
    },
    {
     "name": "stderr",
     "output_type": "stream",
     "text": [
      "100%|██████████| 17579/17579 [05:30<00:00, 53.16it/s]\n"
     ]
    },
    {
     "name": "stdout",
     "output_type": "stream",
     "text": [
      "1 0.7777446113461974 0.6454557776451111\n"
     ]
    },
    {
     "name": "stderr",
     "output_type": "stream",
     "text": [
      "100%|██████████| 17579/17579 [10:43<00:00, 27.34it/s]\n"
     ]
    },
    {
     "name": "stdout",
     "output_type": "stream",
     "text": [
      "2 0.7769620873949906 0.6452344059944153\n"
     ]
    },
    {
     "name": "stderr",
     "output_type": "stream",
     "text": [
      "100%|██████████| 17579/17579 [11:27<00:00, 25.57it/s]\n"
     ]
    },
    {
     "name": "stdout",
     "output_type": "stream",
     "text": [
      "3 0.7767467676654015 0.6441600918769836\n"
     ]
    },
    {
     "name": "stderr",
     "output_type": "stream",
     "text": [
      "100%|██████████| 17579/17579 [11:11<00:00, 26.18it/s]\n"
     ]
    },
    {
     "name": "stdout",
     "output_type": "stream",
     "text": [
      "4 0.7765063144280592 0.6447762250900269\n"
     ]
    }
   ],
   "source": [
    "for epoch in range(5):\n",
    "    loss_log = []\n",
    "    for x, y in tqdm.tqdm(train_loader):\n",
    "        x = x.to(\"cuda:0\")\n",
    "        y = y.to(\"cuda:0\")\n",
    "        o = net(x)\n",
    "        \n",
    "        loss = loss_f(o, y.view(-1))\n",
    "        net.zero_grad()\n",
    "        loss.backward()\n",
    "        opt.step()\n",
    "        loss_log.append(loss.item())\n",
    "        \n",
    "    test_score = eval_net(net, test_loader, device=\"cuda:0\")\n",
    "    print(epoch, mean(loss_log), test_score, flush=True)"
   ]
  },
  {
   "cell_type": "code",
   "execution_count": 77,
   "metadata": {},
   "outputs": [
    {
     "name": "stdout",
     "output_type": "stream",
     "text": [
      "(1, 10)\n",
      "userId         int64\n",
      "movieId        int64\n",
      "rating       float64\n",
      "timestamp      int64\n",
      "dtype: object\n",
      "tensor([3.3960], grad_fn=<MulBackward0>)\n"
     ]
    }
   ],
   "source": [
    "# Move Trained-Model to 'CPU'.\n",
    "# Thankfully, I don't use VM(Virtual-Machine), but use CUDA,\n",
    "# so it works smoothly.\n",
    "net.to(\"cpu\")\n",
    "\n",
    "# Calculate evaluation of User1 of Movie10.\n",
    "query = (1, 10)\n",
    "print(query)\n",
    "\n",
    "\n",
    "# Convert as 'int64' Tensor and add batch-dimension.\n",
    "query = torch.tensor(query, dtype=torch.long).view(1, -1)\n",
    "\n",
    "# Send to 'net'.\n",
    "net(query)\n",
    "print(df.dtypes)\n",
    "print(net(query))"
   ]
  },
  {
   "cell_type": "code",
   "execution_count": 73,
   "metadata": {},
   "outputs": [
    {
     "ename": "RuntimeError",
     "evalue": "Expected object of scalar type float but got scalar type __int64 for sequence element 1.",
     "output_type": "error",
     "traceback": [
      "\u001b[1;31m---------------------------------------------------------------------------\u001b[0m",
      "\u001b[1;31mRuntimeError\u001b[0m                              Traceback (most recent call last)",
      "\u001b[1;32m<ipython-input-73-7a10a1af7f13>\u001b[0m in \u001b[0;36m<module>\u001b[1;34m\u001b[0m\n\u001b[0;32m      4\u001b[0m     \u001b[0mtorch\u001b[0m\u001b[1;33m.\u001b[0m\u001b[0mzeros\u001b[0m\u001b[1;33m(\u001b[0m\u001b[0mmax_item\u001b[0m\u001b[1;33m)\u001b[0m\u001b[1;33m.\u001b[0m\u001b[0mfill_\u001b[0m\u001b[1;33m(\u001b[0m\u001b[1;36m1\u001b[0m\u001b[1;33m)\u001b[0m\u001b[1;33m,\u001b[0m\u001b[1;33m\u001b[0m\u001b[1;33m\u001b[0m\u001b[0m\n\u001b[0;32m      5\u001b[0m     \u001b[0mtorch\u001b[0m\u001b[1;33m.\u001b[0m\u001b[0marange\u001b[0m\u001b[1;33m(\u001b[0m\u001b[1;36m1\u001b[0m\u001b[1;33m,\u001b[0m \u001b[0mmax_item\u001b[0m\u001b[1;33m+\u001b[0m\u001b[1;36m1\u001b[0m\u001b[1;33m)\u001b[0m\u001b[1;33m\u001b[0m\u001b[1;33m\u001b[0m\u001b[0m\n\u001b[1;32m----> 6\u001b[1;33m ], 1).float()\n\u001b[0m\u001b[0;32m      7\u001b[0m \u001b[1;33m\u001b[0m\u001b[0m\n\u001b[0;32m      8\u001b[0m \u001b[1;31m# 'scores' is a number of Top-k scores.\u001b[0m\u001b[1;33m\u001b[0m\u001b[1;33m\u001b[0m\u001b[1;33m\u001b[0m\u001b[0m\n",
      "\u001b[1;31mRuntimeError\u001b[0m: Expected object of scalar type float but got scalar type __int64 for sequence element 1."
     ]
    }
   ],
   "source": [
    "# Select User1 of Top-5-movies.\n",
    "query = query.float()\n",
    "query = torch.stack([\n",
    "    torch.zeros(max_item).fill_(1),\n",
    "    torch.arange(1, max_item+1)\n",
    "], 1).float()\n",
    "\n",
    "# 'scores' is a number of Top-k scores.\n",
    "# 'indices' is a number of Top-k position,\n",
    "# it means movieId.\n",
    "scores, indices = torch.topk(net(query), 5)"
   ]
  },
  {
   "cell_type": "code",
   "execution_count": null,
   "metadata": {},
   "outputs": [],
   "source": []
  }
 ],
 "metadata": {
  "kernelspec": {
   "display_name": "Python 3",
   "language": "python",
   "name": "python3"
  },
  "language_info": {
   "codemirror_mode": {
    "name": "ipython",
    "version": 3
   },
   "file_extension": ".py",
   "mimetype": "text/x-python",
   "name": "python",
   "nbconvert_exporter": "python",
   "pygments_lexer": "ipython3",
   "version": "3.7.6"
  }
 },
 "nbformat": 4,
 "nbformat_minor": 4
}
