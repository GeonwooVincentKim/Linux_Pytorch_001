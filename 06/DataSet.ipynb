{
 "cells": [
  {
   "cell_type": "code",
   "execution_count": 2,
   "metadata": {},
   "outputs": [],
   "source": [
    "# !wget http://files.grouplens.org/datasets/movielens/ml-20m.zip\n",
    "# !unzip ml-20m.zip"
   ]
  },
  {
   "cell_type": "code",
   "execution_count": 3,
   "metadata": {},
   "outputs": [],
   "source": [
    "import torch\n",
    "from torch import nn, optim\n",
    "from torch.utils.data import Dataset, DataLoader, TensorDataset\n",
    "import tqdm"
   ]
  },
  {
   "cell_type": "code",
<<<<<<< HEAD
   "execution_count": 4,
=======
   "execution_count": 3,
>>>>>>> 474eb9882... Imported 'pandas' module.
   "metadata": {},
   "outputs": [],
   "source": [
    "\"\"\"\n",
    "    I. Generates 'MovieLens' Data.\n",
    "    - 1. MovieLens is a Sample Data of Recommandation-System.\n",
    "    - 2. It constructed over 100,000 review-data of around 27,000 movies.\n",
    "    - 3. This model have not only Evaluation(Review) Movie, but als\n",
    "    Included Genre-Data.\n",
    "    \n",
    "    II. What does 'DataSet.ipynb' files do?\n",
    "    - 1. Use 'ratings.csv' in this file.\n",
    "    - 2. The 'ratings.csv' have 4-columns 'userId', 'movieId',\n",
    "    'rating', 'timestamp'.\n",
    "    - 3. I'm going to use 3-columns except for\n",
    "    'timestamp'.\n",
    "    \n",
    "    III. Other information of this file.\n",
    "    - 1. 'userId' and 'movieId' are the User's Movie ID, and the variable\n",
    "    named 'rating' is Evaluation-Score.\n",
    "    - 2. The score have 0 to 5, and it increase 0.5 everytime.\n",
    "\"\"\"\n",
    "import pandas as pd\n",
    "\n",
    "# Apply for devide Training-Data and Test-Data.\n",
    "from sklearn import model_selection"
<<<<<<< HEAD
   ]
  },
  {
   "cell_type": "code",
   "execution_count": 5,
   "metadata": {},
   "outputs": [],
   "source": [
    "# Cannot Import this file because it is take lots of time \n",
    "# to load file.\n",
    "# df = pd.read_csv(\"/home/kkw/notebooks/01/06/ml-20m/ratings.csv\")"
=======
>>>>>>> 474eb9882... Imported 'pandas' module.
   ]
  },
  {
   "cell_type": "code",
   "execution_count": null,
   "metadata": {},
   "outputs": [],
   "source": []
  }
 ],
 "metadata": {
  "kernelspec": {
   "display_name": "Python 3",
   "language": "python",
   "name": "python3"
  },
  "language_info": {
   "codemirror_mode": {
    "name": "ipython",
    "version": 3
   },
   "file_extension": ".py",
   "mimetype": "text/x-python",
   "name": "python",
   "nbconvert_exporter": "python",
   "pygments_lexer": "ipython3",
   "version": "3.6.10"
  }
 },
 "nbformat": 4,
 "nbformat_minor": 4
}
