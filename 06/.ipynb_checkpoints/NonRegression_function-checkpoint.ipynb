{
 "cells": [
  {
   "cell_type": "code",
   "execution_count": 1,
   "metadata": {},
   "outputs": [
    {
     "name": "stdout",
     "output_type": "stream",
     "text": [
      "importing Jupyter notebook from DataSet.ipynb\n"
     ]
    }
   ],
   "source": [
    "import import_ipynb\n",
    "from DataSet import *"
   ]
  },
  {
   "cell_type": "code",
   "execution_count": 2,
   "metadata": {},
   "outputs": [],
   "source": [
    "class NeuralMatrixFactorization(nn.Module):\n",
    "    def __init__(\n",
    "        self, max_user, max_item,\n",
    "        user_k=10, item_k=10,\n",
    "        hidden_dim=50\n",
    "    ):\n",
    "        super().__init__()\n",
    "        self.user_emb = nn.Embedding(max_user, user_k, 0)\n",
    "        self.item_emb = nn.Embedding(max_item, item_k, 0)\n",
    "        self.mlp = nn.Sequential(\n",
    "            nn.Linear(user_k + item_k, hidden_dim),\n",
    "        )"
   ]
  },
  {
   "cell_type": "code",
   "execution_count": null,
   "metadata": {},
   "outputs": [],
   "source": []
  }
 ],
 "metadata": {
  "kernelspec": {
   "display_name": "Python 3",
   "language": "python",
   "name": "python3"
  },
  "language_info": {
   "codemirror_mode": {
    "name": "ipython",
    "version": 3
   },
   "file_extension": ".py",
   "mimetype": "text/x-python",
   "name": "python",
   "nbconvert_exporter": "python",
   "pygments_lexer": "ipython3",
   "version": "3.6.10"
  }
 },
 "nbformat": 4,
 "nbformat_minor": 4
}
