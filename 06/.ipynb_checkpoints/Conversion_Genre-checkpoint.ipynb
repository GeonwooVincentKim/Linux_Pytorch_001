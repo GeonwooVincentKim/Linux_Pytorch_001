{
 "cells": [
  {
   "cell_type": "code",
   "execution_count": 1,
   "metadata": {},
   "outputs": [
    {
     "name": "stdout",
     "output_type": "stream",
     "text": [
      "importing Jupyter notebook from NonRegression_function.ipynb\n",
      "importing Jupyter notebook from DataSet.ipynb\n"
     ]
    }
   ],
   "source": [
    "import import_ipynb\n",
    "from NonRegression_function import *\n",
    "\n",
    "import torch\n",
    "from torch.utils.data import Dataset, DataLoader, TensorDataset\n",
    "from torch import nn, optim\n",
    "import tqdm\n",
    "\n",
    "import csv\n",
    "from sklearn.feature_extraction.text import CountVectorizer"
   ]
  },
  {
   "cell_type": "code",
   "execution_count": 3,
   "metadata": {},
   "outputs": [],
   "source": [
    "# Read 'CSV' file by using 'csv.DictReader'.\n",
    "# Extract required-part.\n",
    "with open(\"ml-20m/movies.csv\") as fp:\n",
    "    reader = csv.DictReader(fp)\n",
    "    def parse(d):\n",
    "        movieId = int(d[\"movieId\"])\n",
    "        genres = d[\"genres\"]\n",
    "        return movieId, genres\n",
    "    \n",
    "    data = [parse(d) for d in reader]\n",
    "    movieIds = [x[0] for x in data]\n",
    "    genres = [x[1] for x in data]\n",
    "    \n",
    "    # Train CountVectorizer by matching data.\n",
    "    cv = CountVectorizer(dtype=\"f4\").fit(genres)\n",
    "    num_genres = len(cv.get_feature_names())\n",
    "    \n",
    "    # Generate Tensor's dict that the key is movidId,\n",
    "    # and the value equals to Bow.\n",
    "    it = cv.transform(genres).toarray()\n",
    "    it = (torch.tensor(g, dtype=torch.float32) for g in it)\n",
    "    genre_dict = dict(zip(movieIds, it))\n",
    "    "
   ]
  },
  {
   "cell_type": "code",
   "execution_count": 4,
   "metadata": {},
   "outputs": [],
   "source": [
    "def first(xs):\n",
    "    it = iter(xs)\n",
    "    return next(it)\n",
    "\n",
    "\n",
    "class MovieLensDataset(Dataset):\n",
    "    def __init__(self, x, y, genres):\n",
    "        assert len(x) == len(y)\n",
    "        self.x = x\n",
    "        self.y = y\n",
    "        self.genres = genres\n",
    "        \n",
    "        # A dummy-data for movieId that does not have in Genre-dictionary.\n",
    "        self.null_genre = torch.zeros_like(\n",
    "            first(genres.values())\n",
    "        )\n",
    "    \n",
    "    def __len__(self):\n",
    "        return len(self.x)\n",
    "    \n",
    "    \n",
    "    def __getitem__(self, idx):\n",
    "        x = self.x[idx]\n",
    "        y = self.y[idx]\n",
    "        # x = (userId, movieId)\n",
    "        movieId = x[1]\n",
    "        g = self.genres.get(movieId, self.null_genre)\n",
    "        return x, y, g"
   ]
  },
  {
   "cell_type": "code",
   "execution_count": 6,
   "metadata": {},
   "outputs": [],
   "source": [
    "train_dataset = MovieLensDataset(\n",
    "    torch.tensor(train_X, dtype=torch.int64),\n",
    "    torch.tensor(train_Y, dtype=torch.float32),\n",
    "    genre_dict\n",
    ")\n",
    "\n",
    "test_dataset = MovieLensDataset(\n",
    "    torch.tensor(test_X, dtype=torch.int64),\n",
    "    torch.tensor(test_Y, dtype=torch.float32),\n",
    "    genre_dict\n",
    ")"
   ]
  },
  {
   "cell_type": "code",
   "execution_count": 7,
   "metadata": {},
   "outputs": [],
   "source": [
    "train_loader = DataLoader(\n",
    "    train_dataset, batch_size=1024, shuffle=True, num_workers=4\n",
    ")\n",
    "test_loader = DataLoader(\n",
    "    test_dataset, batch_size=1024, num_workers=4\n",
    ")"
   ]
  },
  {
   "cell_type": "code",
   "execution_count": 8,
   "metadata": {},
   "outputs": [],
   "source": [
    "class NeuralMatrixFactorization2(nn.Module):\n",
    "    def __init__(\n",
    "        self, max_user, max_item, \n",
    "        num_genres, \n",
    "        user_k=10, item_k=10,\n",
    "        hidden_dim=50\n",
    "    ):\n",
    "        super().__init__()\n",
    "        self.user_emb = nn.Embedding(max_user, user_k, 0)\n",
    "        self.item_emb = nn.Embedding(max_item, item_k, 0)\n",
    "        self.mlp = nn.Sequential(\n",
    "            # Increase dimension by 'num_genres'.\n",
    "            nn.LInear(user_k + item_k + num_genres, hidden_dim),\n",
    "            nn.ReLU(),\n",
    "            nn.BatchNorm1d(hidden_dim),\n",
    "            nn.ReLU(),\n",
    "            nn.BatchNorm1d(hidden_dim),\n",
    "            nn.Linear(hidden_dim, 1)\n",
    "        )"
   ]
  },
  {
   "cell_type": "code",
   "execution_count": null,
   "metadata": {},
   "outputs": [],
   "source": []
  }
 ],
 "metadata": {
  "kernelspec": {
   "display_name": "Python 3",
   "language": "python",
   "name": "python3"
  },
  "language_info": {
   "codemirror_mode": {
    "name": "ipython",
    "version": 3
   },
   "file_extension": ".py",
   "mimetype": "text/x-python",
   "name": "python",
   "nbconvert_exporter": "python",
   "pygments_lexer": "ipython3",
   "version": "3.6.10"
  }
 },
 "nbformat": 4,
 "nbformat_minor": 4
}
