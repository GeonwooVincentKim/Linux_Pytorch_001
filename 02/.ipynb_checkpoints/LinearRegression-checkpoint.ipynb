{
 "cells": [
  {
   "cell_type": "code",
   "execution_count": null,
   "metadata": {},
   "outputs": [],
   "source": [
    "import torch\n",
    "\n",
    "# A coefficient of 'True'\n",
    "w_true = torch.Tensor([1, 2, 3])\n",
    "\n",
    "\n",
    "# To prepare X Data, Add '1' to the initial Dimension of X\n",
    "# to include intercepts in the Regression Coefficients.\n",
    "X = torch.cat([torch.ones(100, 1), torch.randn(100, 2)], 1)\n",
    "\n",
    "# Calculated by multiplying the 'True' Coefficients and\n",
    "# the internalities of each 'X' by the Matrix and Vector.\n",
    "y = torch.mv(X, w_true) + torch.randn(100) * 0.5\n",
    "\n",
    "# Learning Rate\n",
    "gamma = 0.1\n",
    "\n",
    "# Log of Loss-Function\n",
    "losses = []\n",
    "\n",
    "# Iterates 100 times\n",
    "for epoch in range(100):\n",
    "    # Initializing the Gradient Value calculated from the previous\n",
    "    # Backward Method.\n",
    "    w.grad = None\n",
    "    \n",
    "    # Calculate Prediction values named 'Y' by Linear Model.\n",
    "    y_pred = torch.mv(X, w)\n",
    "    \n",
    "    # Calculation of Differentials by 'MSE_loss' and 'w'.\n",
    "    loss = torch.mean((y - y_pred) ** 2)\n",
    "    loss.backward()\n",
    "    \n",
    "    # Update the Gradient.\n",
    "    # If the 'w'is replaced and renewed, it becomes a different Tensor and\n",
    "    # the Calculation graph is ruined.\n",
    "    # Therefore, only the Data is \"updated\".\n",
    "    w.data = w.data - gamma * w.grad.data\n",
    "    \n",
    "    # Record the 'loss' for Convergence Verification.\n",
    "    losses.append(loss.item())\n",
    "    \n",
    "    %matplotlib inline\n",
    "    from matplotlib import pyplot as plt\n",
    "    plt.plot(losses)"
   ]
  }
 ],
 "metadata": {
  "kernelspec": {
   "display_name": "Python 3",
   "language": "python",
   "name": "python3"
  },
  "language_info": {
   "codemirror_mode": {
    "name": "ipython",
    "version": 3
   },
   "file_extension": ".py",
   "mimetype": "text/x-python",
   "name": "python",
   "nbconvert_exporter": "python",
   "pygments_lexer": "ipython3",
   "version": "3.6.10"
  }
 },
 "nbformat": 4,
 "nbformat_minor": 4
}
