{
 "cells": [
  {
   "cell_type": "code",
   "execution_count": 20,
   "metadata": {},
   "outputs": [],
   "source": [
    "import torch\n",
    "from torch import nn, optim\n",
    "from sklearn.datasets import load_digits\n",
    "digits = load_digits()"
   ]
  },
  {
   "cell_type": "code",
   "execution_count": 21,
   "metadata": {},
   "outputs": [],
   "source": [
    "X = digits.data\n",
    "y = digits.target"
   ]
  },
  {
   "cell_type": "code",
   "execution_count": 22,
   "metadata": {},
   "outputs": [],
   "source": [
    "X = torch.tensor(X, dtype=torch.float32)\n",
    "# Be careful that CrossEntropyLoss function gets int64 by variable 'y'.\n",
    "y = torch.tensor(y, dtype=torch.int64)"
   ]
  },
  {
   "cell_type": "code",
   "execution_count": 46,
   "metadata": {},
   "outputs": [],
   "source": [
    "# Set Output dimension as 10.\n",
    "net = nn.Linear(X.size()[1], 10)\n",
    "\n",
    "# Soft-Max Cross-Entropy\n",
    "loss_fn = nn.CrossEntropyLoss()\n",
    "\n",
    "# SGD\n",
    "optimizer = optim.SGD(net.parameters(), lr=0.01)"
   ]
  },
  {
   "cell_type": "code",
   "execution_count": 48,
   "metadata": {},
   "outputs": [],
   "source": [
    "# Log of Loss-Function.\n",
    "losses = []\n",
    "\n",
    "# Iterates 100 times\n",
    "for epoch in range(100):\n",
    "    # Initialize Regression that calculated by 'backward' Method \n",
    "    # of evolution.\n",
    "    optimizer.zero_grad()\n",
    "    \n",
    "    # Calculate 'y' prediction by Regression-Model.\n",
    "    y_pred = net(X)\n",
    "    \n",
    "    # Calculate MSE-loss and 'w' by differetation.\n",
    "    loss = loss_fn(y_pred, y)\n",
    "    loss.backward()\n",
    "    \n",
    "    # Update Regression.\n",
    "    optimizer.step()\n",
    "    \n",
    "    # Record variable 'loss' for convergence confirmation.\n",
    "    losses.append(loss.item())"
   ]
  },
  {
   "cell_type": "code",
   "execution_count": 49,
   "metadata": {},
   "outputs": [
    {
     "data": {
      "text/plain": [
       "0.9449081803005008"
      ]
     },
     "execution_count": 49,
     "metadata": {},
     "output_type": "execute_result"
    }
   ],
   "source": [
    "# 'Torch.max' returns the maximum value when the aggregation axis \n",
    "# is specified, as well as its location.\n",
    "_, y_pred = torch.max(net(X), 1)\n",
    "\n",
    "# Calculate A percentage of correct answers\n",
    "(y_pred == y).sum().item() / len(y)"
   ]
  },
  {
   "cell_type": "code",
   "execution_count": null,
   "metadata": {},
   "outputs": [],
   "source": []
  }
 ],
 "metadata": {
  "kernelspec": {
   "display_name": "Python 3",
   "language": "python",
   "name": "python3"
  },
  "language_info": {
   "codemirror_mode": {
    "name": "ipython",
    "version": 3
   },
   "file_extension": ".py",
   "mimetype": "text/x-python",
   "name": "python",
   "nbconvert_exporter": "python",
   "pygments_lexer": "ipython3",
   "version": "3.6.10"
  }
 },
 "nbformat": 4,
 "nbformat_minor": 4
}
