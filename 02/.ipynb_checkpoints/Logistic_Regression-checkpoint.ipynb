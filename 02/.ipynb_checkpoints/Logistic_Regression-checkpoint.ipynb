{
 "cells": [
  {
   "cell_type": "code",
   "execution_count": 13,
   "metadata": {},
   "outputs": [],
   "source": [
    "# Sigmoid function draws 'S' Curve.\n",
    "# But this is the Regression model which are stands for classify objects. \n",
    "# Logistic_Regression become a problem when Classify model have 2\n",
    "# when variable 'y' is [0, 1]."
   ]
  },
  {
   "cell_type": "code",
   "execution_count": 14,
   "metadata": {},
   "outputs": [],
   "source": [
    "# Prepare for 'iris' Data.\n",
    "import torch\n",
    "import torch.nn as nn\n",
    "import torch.optim as optim\n",
    "from sklearn.datasets import load_iris\n",
    "\n",
    "iris = load_iris()"
   ]
  },
  {
   "cell_type": "code",
   "execution_count": 15,
   "metadata": {},
   "outputs": [],
   "source": [
    "# 'iris' is the problem that classify only three kinds of data model \n",
    "# such as (0, 1, 2), but we are going to use (0, 1) Two Data only.\n",
    "# We should divide model attributes as 'for Training' and 'for Test', \n",
    "# but now we just leave out.\n",
    "X = iris.data[:100]\n",
    "y = iris.target[:100]\n",
    "\n",
    "# Convert 'ndarry' of 'Numpy' as 'Tensor' of 'Pytorch'.\n",
    "X = torch.tensor(X, dtype=torch.float32)\n",
    "y = torch.tensor(y, dtype=torch.float32)"
   ]
  },
  {
   "cell_type": "code",
   "execution_count": 16,
   "metadata": {},
   "outputs": [],
   "source": [
    "# 'iris data' is a 4-dimension.\n",
    "net = nn.Linear(4, 1)\n",
    "\n",
    "# Calculate Cross-Entropy to classify two class by applying Sigmoid Function.\n",
    "loss_fn = nn.BCEWithLogitsLoss()\n",
    "\n",
    "# SGD(Biggish Learning-Rate)\n",
    "optimizer = optim.SGD(net.parameters(), lr=0.25)"
   ]
  },
  {
   "cell_type": "code",
   "execution_count": 17,
   "metadata": {},
   "outputs": [],
   "source": [
    "# Log of Loss-Function.\n",
    "losses = []\n",
    "\n",
    "# Iterates 100 times.\n",
    "for epoc in range(100):\n",
    "    # Initialize calculated regression by the last time 'backward'.\n",
    "    optimizer.zero_grad()\n",
    "    \n",
    "    # Calculate 'y' prediction by Linear_Regression.\n",
    "    y_pred = net(X)\n",
    "    \n",
    "    # Calculate differentiation by using 'MSE loss'.\n",
    "    loss = loss_fn(y_pred.view_as(y), y)\n",
    "    loss.backward()\n",
    "    \n",
    "    # Update Regression\n",
    "    optimizer.step()\n",
    "    \n",
    "    # Record into variable 'loss' for convergence confirmation.\n",
    "    losses.append(loss.item())"
   ]
  },
  {
   "cell_type": "code",
   "execution_count": 18,
   "metadata": {},
   "outputs": [
    {
     "data": {
      "text/plain": [
       "[<matplotlib.lines.Line2D at 0x7fbea9b15470>]"
      ]
     },
     "execution_count": 18,
     "metadata": {},
     "output_type": "execute_result"
    },
    {
     "data": {
      "image/png": "[encoded data removed]",
      "text/plain": [
       "<Figure size 432x288 with 1 Axes>"
      ]
     },
     "metadata": {
      "needs_background": "light"
     },
     "output_type": "display_data"
    }
   ],
   "source": [
    "%matplotlib inline\n",
    "from matplotlib import pyplot as plt\n",
    "plt.plot(losses)"
   ]
  },
  {
   "cell_type": "code",
   "execution_count": 19,
   "metadata": {},
   "outputs": [
    {
     "name": "stderr",
     "output_type": "stream",
     "text": [
      "/home/kkw/miniconda3/envs/pytorch/lib/python3.6/site-packages/torch/nn/functional.py:1006: UserWarning: nn.functional.sigmoid is deprecated. Use torch.sigmoid instead.\n",
      "  warnings.warn(\"nn.functional.sigmoid is deprecated. Use torch.sigmoid instead.\")\n"
     ]
    }
   ],
   "source": [
    "# The result of Linear-Bound.\n",
    "h = net(X)\n",
    "\n",
    "# Show prediction of 'y=1' that apply Sigmoid-Function.\n",
    "prob = nn.functional.sigmoid(h)"
   ]
  },
  {
   "cell_type": "code",
   "execution_count": 20,
   "metadata": {},
   "outputs": [],
   "source": [
    "# Predict 'class1' when probabality beyond 0.5, otherwise predict as 0.\n",
    "# There is no 'bool' phrase in Pytorch, so ByteTensor will print out.\n",
    "y_pred = prob > 0.5"
   ]
  },
  {
   "cell_type": "code",
   "execution_count": 21,
   "metadata": {},
   "outputs": [
    {
     "data": {
      "text/plain": [
       "100"
      ]
     },
     "execution_count": 21,
     "metadata": {},
     "output_type": "execute_result"
    }
   ],
   "source": [
    "# Check Prediction result \n",
    "# ('y' is FloatTensor, so compare ByteTensor after convert it.)\n",
    "(y.byte() == y_pred.view_as(y)).sum().item()"
   ]
  },
  {
   "cell_type": "code",
   "execution_count": null,
   "metadata": {},
   "outputs": [],
   "source": []
  }
 ],
 "metadata": {
  "kernelspec": {
   "display_name": "Python 3",
   "language": "python",
   "name": "python3"
  },
  "language_info": {
   "codemirror_mode": {
    "name": "ipython",
    "version": 3
   },
   "file_extension": ".py",
   "mimetype": "text/x-python",
   "name": "python",
   "nbconvert_exporter": "python",
   "pygments_lexer": "ipython3",
   "version": "3.6.10"
  }
 },
 "nbformat": 4,
 "nbformat_minor": 4
}
