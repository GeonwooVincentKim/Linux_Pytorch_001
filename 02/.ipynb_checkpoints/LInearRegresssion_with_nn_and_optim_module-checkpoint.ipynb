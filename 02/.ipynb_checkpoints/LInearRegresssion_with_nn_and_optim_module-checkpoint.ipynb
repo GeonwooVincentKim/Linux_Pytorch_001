{
 "cells": [
  {
   "cell_type": "code",
   "execution_count": 5,
   "metadata": {},
   "outputs": [],
   "source": [
    "import torch\n",
    "from torch import nn, optim"
   ]
  },
  {
   "cell_type": "code",
   "execution_count": 6,
   "metadata": {},
   "outputs": [],
   "source": [
    "# Make Linear Layer, and the Intercepts are included into Regression\n",
    "# number, so we set bias(Intercepts) False, and then set\n",
    "# Input dimension as 3.\n",
    "net = nn.Linear(in_features=3, out_features=1, bias=False)"
   ]
  },
  {
   "cell_type": "code",
   "execution_count": 14,
   "metadata": {},
   "outputs": [],
   "source": [
    "# Initialize the defined Network Parameter in SGD Optimization\n",
    "# Meteorological.\n",
    "optimizer = optim.SGD(net.parameters(), lr=0.1)\n",
    "\n",
    "# CLass of MSE loss\n",
    "loss_fn = nn.MSELoss()\n",
    "\n",
    "# # A coefficient of 'True'\n",
    "# w_true = torch.Tensor([1, 2, 3])\n",
    "\n",
    "\n",
    "# # To prepare X Data, Add '1' to the initial Dimension of X\n",
    "# # to include intercepts in the Regression Coefficients.\n",
    "# X = torch.cat([torch.ones(100, 1), torch.randn(100, 2)], 1)\n",
    "\n",
    "# # Calculated by multiplying the 'True' Coefficients and\n",
    "# # the internalities of each 'X' by the Matrix and Vector.\n",
    "# y = torch.mv(X, w_true) + torch.randn(100) * 0.5\n",
    "# w = torch.randn(3, requires_grad=True)\n",
    "\n",
    "# # Learning Rate\n",
    "# gamma = 0.1"
   ]
  },
  {
   "cell_type": "code",
   "execution_count": 16,
   "metadata": {},
   "outputs": [
    {
     "ename": "AttributeError",
     "evalue": "'NoneType' object has no attribute 'data'",
     "output_type": "error",
     "traceback": [
      "\u001b[0;31m---------------------------------------------------------------------------\u001b[0m",
      "\u001b[0;31mAttributeError\u001b[0m                            Traceback (most recent call last)",
      "\u001b[0;32m<ipython-input-16-9c17a417fee0>\u001b[0m in \u001b[0;36m<module>\u001b[0;34m\u001b[0m\n\u001b[1;32m     18\u001b[0m     \u001b[0;31m# the Calculation graph is ruined.\u001b[0m\u001b[0;34m\u001b[0m\u001b[0;34m\u001b[0m\u001b[0;34m\u001b[0m\u001b[0m\n\u001b[1;32m     19\u001b[0m     \u001b[0;31m# Therefore, only the Data is \"updated\".\u001b[0m\u001b[0;34m\u001b[0m\u001b[0;34m\u001b[0m\u001b[0;34m\u001b[0m\u001b[0m\n\u001b[0;32m---> 20\u001b[0;31m     \u001b[0mw\u001b[0m\u001b[0;34m.\u001b[0m\u001b[0mdata\u001b[0m \u001b[0;34m=\u001b[0m \u001b[0mw\u001b[0m\u001b[0;34m.\u001b[0m\u001b[0mdata\u001b[0m \u001b[0;34m-\u001b[0m \u001b[0mgamma\u001b[0m \u001b[0;34m*\u001b[0m \u001b[0mw\u001b[0m\u001b[0;34m.\u001b[0m\u001b[0mgrad\u001b[0m\u001b[0;34m.\u001b[0m\u001b[0mdata\u001b[0m\u001b[0;34m\u001b[0m\u001b[0;34m\u001b[0m\u001b[0m\n\u001b[0m\u001b[1;32m     21\u001b[0m \u001b[0;34m\u001b[0m\u001b[0m\n\u001b[1;32m     22\u001b[0m     \u001b[0;31m# Record the 'loss' for Convergence Verification.\u001b[0m\u001b[0;34m\u001b[0m\u001b[0;34m\u001b[0m\u001b[0;34m\u001b[0m\u001b[0m\n",
      "\u001b[0;31mAttributeError\u001b[0m: 'NoneType' object has no attribute 'data'"
     ]
    }
   ],
   "source": [
    "# The Log of Loss Function\n",
    "losses = []\n",
    "\n",
    "# Iterates 100 times.\n",
    "for epoc in range(100):\n",
    "    # Initialize Calculated gradients by the last time 'backward' Method.\n",
    "    optimizer.zero_grad()\n",
    "    \n",
    "    # Calculate 'y' prediction by using Linear Regression Model.\n",
    "    y_pred = net(X)\n",
    "    \n",
    "    # Calculate 'MSE loss'\n",
    "    # We should change the y_pred Data Tuple '(n, 1)' as '(n, )'.\n",
    "    loss = loss_fn(y_pred.view_as(y), y)\n",
    "    \n",
    "    # Calculation of Differentials named 'loss' by 'w'.\n",
    "    loss.backward()\n",
    "    \n",
    "    # Update Gradients\n",
    "    optimizer.step()\n",
    "    \n",
    "    # Record the 'loss' for Convergence Verification.\n",
    "    losses.append(loss.item())\n",
    "    \n",
    "    "
   ]
  },
  {
   "cell_type": "code",
   "execution_count": null,
   "metadata": {},
   "outputs": [],
   "source": []
  }
 ],
 "metadata": {
  "kernelspec": {
   "display_name": "Python 3",
   "language": "python",
   "name": "python3"
  },
  "language_info": {
   "codemirror_mode": {
    "name": "ipython",
    "version": 3
   },
   "file_extension": ".py",
   "mimetype": "text/x-python",
   "name": "python",
   "nbconvert_exporter": "python",
   "pygments_lexer": "ipython3",
   "version": "3.6.10"
  }
 },
 "nbformat": 4,
 "nbformat_minor": 4
}
